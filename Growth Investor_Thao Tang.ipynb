{
 "cells": [
  {
   "cell_type": "markdown",
   "id": "f7c1f637",
   "metadata": {},
   "source": [
    "**Background:**\n",
    "We are a portfolio investment company and we make investments in the emerging markets around the world. Our company profits by investing in profitable companies, buying, holding and selling company stocks based on value investing principles.\n",
    "Our goal is to establish a robust intelligent system to aid our value investing efforts using stock market data. We make investment decisions and based on intrinsic value of companies and do not trade on the basis of daily market volatility. Our profit realization strategy typically involves weekly, monthly and quarterly performance of stocks we buy or hold.\n",
    "\n",
    "**Data Description:**\n",
    "You are given a set of portfolio companies trading data from emerging markets including 2020 Q1-Q2-Q3-Q4 2021 Q1 stock prices. Each company stock is provided in different sheets. Each market's operating days varies based on the country of the company and the market the stocks are exchanged. Use only 2020 data and predict with 2021 Q1 data."
   ]
  },
  {
   "cell_type": "markdown",
   "id": "aa3a1e09",
   "metadata": {},
   "source": [
    "# Table of contents\n",
    "- [Verify GPU](#gpu)\n",
    "- [Data Cleaning & EDA](#eda)\n",
    "- [Data splitting](#pipe)\n",
    "- [Modelling](#md)\n",
    "    - [Moving Average](#ti)\n",
    "    - [ARIMA](#arima)\n",
    "    - [PROPHET by Facebook](#fb)\n",
    "    - [LSTM](#lstm)\n",
    "- [Conclusion](#con)"
   ]
  },
  {
   "cell_type": "code",
   "execution_count": 1,
   "id": "c153aa79-eb94-41a3-8f60-6407a67d3ad7",
   "metadata": {
    "scrolled": true
   },
   "outputs": [],
   "source": [
    "import numpy as np\n",
    "import pandas as pd\n",
    "import random\n",
    "import warnings\n",
    "warnings.filterwarnings('ignore')\n",
    "\n",
    "import tensorflow as tf\n",
    "import plotly.express as px\n",
    "from plotly.subplots import make_subplots\n",
    "import plotly.graph_objs as go\n",
    "import matplotlib.pyplot as plt\n",
    "import seaborn as sns\n",
    "\n",
    "# stats\n",
    "from statsmodels.api import tsa # time series analysis\n",
    "import statsmodels.api as sm\n",
    "from tensorflow.keras.models import Sequential\n",
    "from keras.layers import LSTM\n",
    "from keras.layers import Dense\n",
    "from keras.layers import Dropout\n",
    "\n",
    "from sklearn.metrics import mean_absolute_percentage_error"
   ]
  },
  {
   "cell_type": "code",
   "execution_count": 2,
   "id": "45428da0",
   "metadata": {},
   "outputs": [],
   "source": [
    "def set_random_seed(seed):\n",
    "    \n",
    "    '''Random seeds for reproducability'''\n",
    "    \n",
    "    random.seed(seed)\n",
    "    tf.random.set_seed(seed)\n",
    "\n",
    "set_random_seed(123)"
   ]
  },
  {
   "cell_type": "markdown",
   "id": "a8dee756",
   "metadata": {},
   "source": [
    "# Verify GPU <a class=\"anchor\" id=\"gpu\"></a>"
   ]
  },
  {
   "cell_type": "code",
   "execution_count": 3,
   "id": "7811ad90-08f1-4403-a7a4-cc651703b224",
   "metadata": {},
   "outputs": [
    {
     "name": "stdout",
     "output_type": "stream",
     "text": [
      "Num GPUs Available:  1\n",
      "GPU name: /device:GPU:0\n"
     ]
    },
    {
     "name": "stderr",
     "output_type": "stream",
     "text": [
      "2023-12-16 06:24:38.441562: I metal_plugin/src/device/metal_device.cc:1154] Metal device set to: Apple M1\n",
      "2023-12-16 06:24:38.441600: I metal_plugin/src/device/metal_device.cc:296] systemMemory: 8.00 GB\n",
      "2023-12-16 06:24:38.441612: I metal_plugin/src/device/metal_device.cc:313] maxCacheSize: 2.67 GB\n",
      "2023-12-16 06:24:38.442084: I tensorflow/core/common_runtime/pluggable_device/pluggable_device_factory.cc:306] Could not identify NUMA node of platform GPU ID 0, defaulting to 0. Your kernel may not have been built with NUMA support.\n",
      "2023-12-16 06:24:38.442493: I tensorflow/core/common_runtime/pluggable_device/pluggable_device_factory.cc:272] Created TensorFlow device (/device:GPU:0 with 0 MB memory) -> physical PluggableDevice (device: 0, name: METAL, pci bus id: <undefined>)\n"
     ]
    }
   ],
   "source": [
    "print(\"Num GPUs Available: \", len(tf.config.list_physical_devices('GPU')))\n",
    "# GPU of my machine that is visible to TensorFlow\n",
    "print('GPU name:',tf.test.gpu_device_name())"
   ]
  },
  {
   "cell_type": "code",
   "execution_count": 4,
   "id": "eabd5f75",
   "metadata": {
    "scrolled": true
   },
   "outputs": [
    {
     "name": "stdout",
     "output_type": "stream",
     "text": [
      "Russia - Sberbank Rossii PAO (S\n",
      "Turkey - Koc Holding AS (KCHOL)\n",
      "Egypt - Medinet Nasr Housing (M\n",
      "Brazil - Minerva SABrazil (BEEF\n",
      "Argentina - Pampa Energia SA (P\n",
      "Colombia - Cementos Argos SA (C\n",
      "South Africa - Impala Platinum \n",
      "South Korea - Dongkuk Steel Mil\n"
     ]
    }
   ],
   "source": [
    "# Read all sheets in the Excel file\n",
    "file_name = '2020Q1Q2Q3Q4-2021Q1.xlsx'\n",
    "df = pd.read_excel(file_name, sheet_name=None)\n",
    "\n",
    "# df will be a dictionary, where the keys are the sheet names and the values are the corresponding dataframes\n",
    "for i in df.keys():\n",
    "    print(i)"
   ]
  },
  {
   "cell_type": "markdown",
   "id": "90dc9a4e",
   "metadata": {},
   "source": [
    "There are 8 companies that we can work on, and I choose to work on the company in Russia."
   ]
  },
  {
   "cell_type": "code",
   "execution_count": 5,
   "id": "5b948585",
   "metadata": {},
   "outputs": [],
   "source": [
    "# read the dataframe\n",
    "russia = pd.read_excel(file_name, sheet_name='Russia - Sberbank Rossii PAO (S')"
   ]
  },
  {
   "cell_type": "markdown",
   "id": "a04421c5",
   "metadata": {},
   "source": [
    "## Data Cleaning & EDA <a class=\"anchor\" id=\"eda\"></a>"
   ]
  },
  {
   "cell_type": "code",
   "execution_count": 6,
   "id": "04f5303c",
   "metadata": {},
   "outputs": [
    {
     "name": "stdout",
     "output_type": "stream",
     "text": [
      "The Russian company dataframe has 312 rows and 7 columns.\n"
     ]
    }
   ],
   "source": [
    "print(f'The Russian company dataframe has {russia.shape[0]} rows and {russia.shape[1]} columns.')"
   ]
  },
  {
   "cell_type": "code",
   "execution_count": 7,
   "id": "93e02ba2",
   "metadata": {
    "scrolled": true
   },
   "outputs": [
    {
     "data": {
      "text/html": [
       "<div>\n",
       "<style scoped>\n",
       "    .dataframe tbody tr th:only-of-type {\n",
       "        vertical-align: middle;\n",
       "    }\n",
       "\n",
       "    .dataframe tbody tr th {\n",
       "        vertical-align: top;\n",
       "    }\n",
       "\n",
       "    .dataframe thead th {\n",
       "        text-align: right;\n",
       "    }\n",
       "</style>\n",
       "<table border=\"1\" class=\"dataframe\">\n",
       "  <thead>\n",
       "    <tr style=\"text-align: right;\">\n",
       "      <th></th>\n",
       "      <th>Date</th>\n",
       "      <th>Price</th>\n",
       "      <th>Open</th>\n",
       "      <th>High</th>\n",
       "      <th>Low</th>\n",
       "      <th>Vol.</th>\n",
       "      <th>Change %</th>\n",
       "    </tr>\n",
       "  </thead>\n",
       "  <tbody>\n",
       "    <tr>\n",
       "      <th>0</th>\n",
       "      <td>2021-03-31 00:00:00</td>\n",
       "      <td>291.02</td>\n",
       "      <td>294</td>\n",
       "      <td>294.42</td>\n",
       "      <td>290.26</td>\n",
       "      <td>47.00M</td>\n",
       "      <td>-0.0076</td>\n",
       "    </tr>\n",
       "    <tr>\n",
       "      <th>1</th>\n",
       "      <td>2021-03-30 00:00:00</td>\n",
       "      <td>293.25</td>\n",
       "      <td>294.86</td>\n",
       "      <td>295.72</td>\n",
       "      <td>291.5</td>\n",
       "      <td>38.81M</td>\n",
       "      <td>-0.0002</td>\n",
       "    </tr>\n",
       "    <tr>\n",
       "      <th>2</th>\n",
       "      <td>2021-03-29 00:00:00</td>\n",
       "      <td>293.3</td>\n",
       "      <td>289.72</td>\n",
       "      <td>294.09</td>\n",
       "      <td>289.26</td>\n",
       "      <td>43.68M</td>\n",
       "      <td>0.0071</td>\n",
       "    </tr>\n",
       "    <tr>\n",
       "      <th>3</th>\n",
       "      <td>2021-03-26 00:00:00</td>\n",
       "      <td>291.22</td>\n",
       "      <td>288.63</td>\n",
       "      <td>292.75</td>\n",
       "      <td>288.32</td>\n",
       "      <td>56.07M</td>\n",
       "      <td>0.0159</td>\n",
       "    </tr>\n",
       "    <tr>\n",
       "      <th>4</th>\n",
       "      <td>2021-03-25 00:00:00</td>\n",
       "      <td>286.66</td>\n",
       "      <td>286.5</td>\n",
       "      <td>287.03</td>\n",
       "      <td>283.85</td>\n",
       "      <td>35.22M</td>\n",
       "      <td>0.0030</td>\n",
       "    </tr>\n",
       "  </tbody>\n",
       "</table>\n",
       "</div>"
      ],
      "text/plain": [
       "                  Date   Price    Open    High     Low    Vol.  Change %\n",
       "0  2021-03-31 00:00:00  291.02     294  294.42  290.26  47.00M   -0.0076\n",
       "1  2021-03-30 00:00:00  293.25  294.86  295.72   291.5  38.81M   -0.0002\n",
       "2  2021-03-29 00:00:00   293.3  289.72  294.09  289.26  43.68M    0.0071\n",
       "3  2021-03-26 00:00:00  291.22  288.63  292.75  288.32  56.07M    0.0159\n",
       "4  2021-03-25 00:00:00  286.66   286.5  287.03  283.85  35.22M    0.0030"
      ]
     },
     "execution_count": 7,
     "metadata": {},
     "output_type": "execute_result"
    }
   ],
   "source": [
    "russia.head()"
   ]
  },
  {
   "cell_type": "code",
   "execution_count": 8,
   "id": "fdfd70d6",
   "metadata": {},
   "outputs": [
    {
     "data": {
      "text/html": [
       "<div>\n",
       "<style scoped>\n",
       "    .dataframe tbody tr th:only-of-type {\n",
       "        vertical-align: middle;\n",
       "    }\n",
       "\n",
       "    .dataframe tbody tr th {\n",
       "        vertical-align: top;\n",
       "    }\n",
       "\n",
       "    .dataframe thead th {\n",
       "        text-align: right;\n",
       "    }\n",
       "</style>\n",
       "<table border=\"1\" class=\"dataframe\">\n",
       "  <thead>\n",
       "    <tr style=\"text-align: right;\">\n",
       "      <th></th>\n",
       "      <th>Date</th>\n",
       "      <th>Price</th>\n",
       "      <th>Open</th>\n",
       "      <th>High</th>\n",
       "      <th>Low</th>\n",
       "      <th>Vol.</th>\n",
       "      <th>Change %</th>\n",
       "    </tr>\n",
       "  </thead>\n",
       "  <tbody>\n",
       "    <tr>\n",
       "      <th>307</th>\n",
       "      <td>2020-01-09 00:00:00</td>\n",
       "      <td>257.99</td>\n",
       "      <td>259.4</td>\n",
       "      <td>261.76</td>\n",
       "      <td>257.01</td>\n",
       "      <td>38.33M</td>\n",
       "      <td>-0.0045</td>\n",
       "    </tr>\n",
       "    <tr>\n",
       "      <th>308</th>\n",
       "      <td>2020-01-08 00:00:00</td>\n",
       "      <td>259.15</td>\n",
       "      <td>253.57</td>\n",
       "      <td>259.15</td>\n",
       "      <td>253.03</td>\n",
       "      <td>40.82M</td>\n",
       "      <td>0.0207</td>\n",
       "    </tr>\n",
       "    <tr>\n",
       "      <th>309</th>\n",
       "      <td>2020-01-06 00:00:00</td>\n",
       "      <td>253.9</td>\n",
       "      <td>254.75</td>\n",
       "      <td>254.84</td>\n",
       "      <td>251.4</td>\n",
       "      <td>22.35M</td>\n",
       "      <td>-0.0043</td>\n",
       "    </tr>\n",
       "    <tr>\n",
       "      <th>310</th>\n",
       "      <td>2020-01-03 00:00:00</td>\n",
       "      <td>255</td>\n",
       "      <td>255.99</td>\n",
       "      <td>258.19</td>\n",
       "      <td>253.7</td>\n",
       "      <td>35.85M</td>\n",
       "      <td>0.0010</td>\n",
       "    </tr>\n",
       "    <tr>\n",
       "      <th>311</th>\n",
       "      <td>Highest: 296.07</td>\n",
       "      <td>Lowest: 172.15</td>\n",
       "      <td>Difference: 123.92</td>\n",
       "      <td>Average: 234.52</td>\n",
       "      <td>Change %: 14.24</td>\n",
       "      <td>NaN</td>\n",
       "      <td>NaN</td>\n",
       "    </tr>\n",
       "  </tbody>\n",
       "</table>\n",
       "</div>"
      ],
      "text/plain": [
       "                    Date           Price                Open             High  \\\n",
       "307  2020-01-09 00:00:00          257.99               259.4           261.76   \n",
       "308  2020-01-08 00:00:00          259.15              253.57           259.15   \n",
       "309  2020-01-06 00:00:00           253.9              254.75           254.84   \n",
       "310  2020-01-03 00:00:00             255              255.99           258.19   \n",
       "311      Highest: 296.07  Lowest: 172.15  Difference: 123.92  Average: 234.52   \n",
       "\n",
       "                 Low    Vol.  Change %  \n",
       "307           257.01  38.33M   -0.0045  \n",
       "308           253.03  40.82M    0.0207  \n",
       "309            251.4  22.35M   -0.0043  \n",
       "310            253.7  35.85M    0.0010  \n",
       "311  Change %: 14.24     NaN       NaN  "
      ]
     },
     "execution_count": 8,
     "metadata": {},
     "output_type": "execute_result"
    }
   ],
   "source": [
    "russia.tail()"
   ]
  },
  {
   "cell_type": "code",
   "execution_count": 9,
   "id": "2c623c1c",
   "metadata": {},
   "outputs": [
    {
     "data": {
      "text/plain": [
       "Date        0\n",
       "Price       0\n",
       "Open        0\n",
       "High        0\n",
       "Low         0\n",
       "Vol.        1\n",
       "Change %    1\n",
       "dtype: int64"
      ]
     },
     "execution_count": 9,
     "metadata": {},
     "output_type": "execute_result"
    }
   ],
   "source": [
    "russia.isna().sum()"
   ]
  },
  {
   "cell_type": "markdown",
   "id": "c2b6c1ee",
   "metadata": {},
   "source": [
    "We see that the last row accounts for one NaN value in columns `Vol.` and `Change %`."
   ]
  },
  {
   "cell_type": "code",
   "execution_count": 10,
   "id": "e78c730e",
   "metadata": {},
   "outputs": [
    {
     "data": {
      "text/html": [
       "<div>\n",
       "<style scoped>\n",
       "    .dataframe tbody tr th:only-of-type {\n",
       "        vertical-align: middle;\n",
       "    }\n",
       "\n",
       "    .dataframe tbody tr th {\n",
       "        vertical-align: top;\n",
       "    }\n",
       "\n",
       "    .dataframe thead th {\n",
       "        text-align: right;\n",
       "    }\n",
       "</style>\n",
       "<table border=\"1\" class=\"dataframe\">\n",
       "  <thead>\n",
       "    <tr style=\"text-align: right;\">\n",
       "      <th></th>\n",
       "      <th>Date</th>\n",
       "      <th>Price</th>\n",
       "      <th>Open</th>\n",
       "      <th>High</th>\n",
       "      <th>Low</th>\n",
       "      <th>Vol.</th>\n",
       "      <th>Change %</th>\n",
       "    </tr>\n",
       "  </thead>\n",
       "  <tbody>\n",
       "    <tr>\n",
       "      <th>306</th>\n",
       "      <td>2020-01-10 00:00:00</td>\n",
       "      <td>258.19</td>\n",
       "      <td>257.86</td>\n",
       "      <td>259.25</td>\n",
       "      <td>256.88</td>\n",
       "      <td>18.85M</td>\n",
       "      <td>0.0008</td>\n",
       "    </tr>\n",
       "    <tr>\n",
       "      <th>307</th>\n",
       "      <td>2020-01-09 00:00:00</td>\n",
       "      <td>257.99</td>\n",
       "      <td>259.4</td>\n",
       "      <td>261.76</td>\n",
       "      <td>257.01</td>\n",
       "      <td>38.33M</td>\n",
       "      <td>-0.0045</td>\n",
       "    </tr>\n",
       "    <tr>\n",
       "      <th>308</th>\n",
       "      <td>2020-01-08 00:00:00</td>\n",
       "      <td>259.15</td>\n",
       "      <td>253.57</td>\n",
       "      <td>259.15</td>\n",
       "      <td>253.03</td>\n",
       "      <td>40.82M</td>\n",
       "      <td>0.0207</td>\n",
       "    </tr>\n",
       "    <tr>\n",
       "      <th>309</th>\n",
       "      <td>2020-01-06 00:00:00</td>\n",
       "      <td>253.9</td>\n",
       "      <td>254.75</td>\n",
       "      <td>254.84</td>\n",
       "      <td>251.4</td>\n",
       "      <td>22.35M</td>\n",
       "      <td>-0.0043</td>\n",
       "    </tr>\n",
       "    <tr>\n",
       "      <th>310</th>\n",
       "      <td>2020-01-03 00:00:00</td>\n",
       "      <td>255</td>\n",
       "      <td>255.99</td>\n",
       "      <td>258.19</td>\n",
       "      <td>253.7</td>\n",
       "      <td>35.85M</td>\n",
       "      <td>0.0010</td>\n",
       "    </tr>\n",
       "  </tbody>\n",
       "</table>\n",
       "</div>"
      ],
      "text/plain": [
       "                    Date   Price    Open    High     Low    Vol.  Change %\n",
       "306  2020-01-10 00:00:00  258.19  257.86  259.25  256.88  18.85M    0.0008\n",
       "307  2020-01-09 00:00:00  257.99   259.4  261.76  257.01  38.33M   -0.0045\n",
       "308  2020-01-08 00:00:00  259.15  253.57  259.15  253.03  40.82M    0.0207\n",
       "309  2020-01-06 00:00:00   253.9  254.75  254.84   251.4  22.35M   -0.0043\n",
       "310  2020-01-03 00:00:00     255  255.99  258.19   253.7  35.85M    0.0010"
      ]
     },
     "execution_count": 10,
     "metadata": {},
     "output_type": "execute_result"
    }
   ],
   "source": [
    "# remove the last row\n",
    "russia=russia.iloc[:-1]\n",
    "russia.tail()"
   ]
  },
  {
   "cell_type": "code",
   "execution_count": 11,
   "id": "3dde3383",
   "metadata": {},
   "outputs": [
    {
     "data": {
      "text/plain": [
       "Date        0\n",
       "Price       0\n",
       "Open        0\n",
       "High        0\n",
       "Low         0\n",
       "Vol.        0\n",
       "Change %    0\n",
       "dtype: int64"
      ]
     },
     "execution_count": 11,
     "metadata": {},
     "output_type": "execute_result"
    }
   ],
   "source": [
    "# sanity check\n",
    "russia.isna().sum()"
   ]
  },
  {
   "cell_type": "code",
   "execution_count": 12,
   "id": "4c6a9606",
   "metadata": {
    "scrolled": true
   },
   "outputs": [
    {
     "name": "stdout",
     "output_type": "stream",
     "text": [
      "<class 'pandas.core.frame.DataFrame'>\n",
      "RangeIndex: 311 entries, 0 to 310\n",
      "Data columns (total 7 columns):\n",
      " #   Column    Non-Null Count  Dtype  \n",
      "---  ------    --------------  -----  \n",
      " 0   Date      311 non-null    object \n",
      " 1   Price     311 non-null    object \n",
      " 2   Open      311 non-null    object \n",
      " 3   High      311 non-null    object \n",
      " 4   Low       311 non-null    object \n",
      " 5   Vol.      311 non-null    object \n",
      " 6   Change %  311 non-null    float64\n",
      "dtypes: float64(1), object(6)\n",
      "memory usage: 17.1+ KB\n"
     ]
    }
   ],
   "source": [
    "# check data type\n",
    "russia.info()"
   ]
  },
  {
   "cell_type": "markdown",
   "id": "79975197",
   "metadata": {},
   "source": [
    "We'll only use 2 columns `Date` and `Price`, so let's convert their data type properly."
   ]
  },
  {
   "cell_type": "code",
   "execution_count": 13,
   "id": "c7905f96",
   "metadata": {},
   "outputs": [
    {
     "data": {
      "text/html": [
       "<div>\n",
       "<style scoped>\n",
       "    .dataframe tbody tr th:only-of-type {\n",
       "        vertical-align: middle;\n",
       "    }\n",
       "\n",
       "    .dataframe tbody tr th {\n",
       "        vertical-align: top;\n",
       "    }\n",
       "\n",
       "    .dataframe thead th {\n",
       "        text-align: right;\n",
       "    }\n",
       "</style>\n",
       "<table border=\"1\" class=\"dataframe\">\n",
       "  <thead>\n",
       "    <tr style=\"text-align: right;\">\n",
       "      <th></th>\n",
       "      <th>Price</th>\n",
       "      <th>Open</th>\n",
       "      <th>High</th>\n",
       "      <th>Low</th>\n",
       "      <th>Vol.</th>\n",
       "      <th>Change %</th>\n",
       "    </tr>\n",
       "    <tr>\n",
       "      <th>Date</th>\n",
       "      <th></th>\n",
       "      <th></th>\n",
       "      <th></th>\n",
       "      <th></th>\n",
       "      <th></th>\n",
       "      <th></th>\n",
       "    </tr>\n",
       "  </thead>\n",
       "  <tbody>\n",
       "    <tr>\n",
       "      <th>2021-03-31</th>\n",
       "      <td>291.02</td>\n",
       "      <td>294</td>\n",
       "      <td>294.42</td>\n",
       "      <td>290.26</td>\n",
       "      <td>47.00M</td>\n",
       "      <td>-0.0076</td>\n",
       "    </tr>\n",
       "    <tr>\n",
       "      <th>2021-03-30</th>\n",
       "      <td>293.25</td>\n",
       "      <td>294.86</td>\n",
       "      <td>295.72</td>\n",
       "      <td>291.5</td>\n",
       "      <td>38.81M</td>\n",
       "      <td>-0.0002</td>\n",
       "    </tr>\n",
       "    <tr>\n",
       "      <th>2021-03-29</th>\n",
       "      <td>293.30</td>\n",
       "      <td>289.72</td>\n",
       "      <td>294.09</td>\n",
       "      <td>289.26</td>\n",
       "      <td>43.68M</td>\n",
       "      <td>0.0071</td>\n",
       "    </tr>\n",
       "    <tr>\n",
       "      <th>2021-03-26</th>\n",
       "      <td>291.22</td>\n",
       "      <td>288.63</td>\n",
       "      <td>292.75</td>\n",
       "      <td>288.32</td>\n",
       "      <td>56.07M</td>\n",
       "      <td>0.0159</td>\n",
       "    </tr>\n",
       "    <tr>\n",
       "      <th>2021-03-25</th>\n",
       "      <td>286.66</td>\n",
       "      <td>286.5</td>\n",
       "      <td>287.03</td>\n",
       "      <td>283.85</td>\n",
       "      <td>35.22M</td>\n",
       "      <td>0.0030</td>\n",
       "    </tr>\n",
       "  </tbody>\n",
       "</table>\n",
       "</div>"
      ],
      "text/plain": [
       "             Price    Open    High     Low    Vol.  Change %\n",
       "Date                                                        \n",
       "2021-03-31  291.02     294  294.42  290.26  47.00M   -0.0076\n",
       "2021-03-30  293.25  294.86  295.72   291.5  38.81M   -0.0002\n",
       "2021-03-29  293.30  289.72  294.09  289.26  43.68M    0.0071\n",
       "2021-03-26  291.22  288.63  292.75  288.32  56.07M    0.0159\n",
       "2021-03-25  286.66   286.5  287.03  283.85  35.22M    0.0030"
      ]
     },
     "execution_count": 13,
     "metadata": {},
     "output_type": "execute_result"
    }
   ],
   "source": [
    "# change to datetime type\n",
    "russia[\"Date\"] = pd.to_datetime(russia[\"Date\"])\n",
    "# change to float\n",
    "russia['Price'] = russia['Price'].astype(float)\n",
    "\n",
    "# set Date as index\n",
    "russia = russia.set_index(\"Date\")\n",
    "\n",
    "russia.head()"
   ]
  },
  {
   "cell_type": "code",
   "execution_count": 14,
   "id": "241157f5",
   "metadata": {
    "scrolled": true
   },
   "outputs": [
    {
     "name": "stdout",
     "output_type": "stream",
     "text": [
      "<class 'pandas.core.frame.DataFrame'>\n",
      "DatetimeIndex: 311 entries, 2021-03-31 to 2020-01-03\n",
      "Data columns (total 6 columns):\n",
      " #   Column    Non-Null Count  Dtype  \n",
      "---  ------    --------------  -----  \n",
      " 0   Price     311 non-null    float64\n",
      " 1   Open      311 non-null    object \n",
      " 2   High      311 non-null    object \n",
      " 3   Low       311 non-null    object \n",
      " 4   Vol.      311 non-null    object \n",
      " 5   Change %  311 non-null    float64\n",
      "dtypes: float64(2), object(4)\n",
      "memory usage: 17.0+ KB\n"
     ]
    }
   ],
   "source": [
    "# sanity check\n",
    "russia.info()"
   ]
  },
  {
   "cell_type": "code",
   "execution_count": 15,
   "id": "b420da5d",
   "metadata": {},
   "outputs": [
    {
     "data": {
      "text/plain": [
       "0"
      ]
     },
     "execution_count": 15,
     "metadata": {},
     "output_type": "execute_result"
    }
   ],
   "source": [
    "# check duplicate values\n",
    "russia.duplicated().sum()"
   ]
  },
  {
   "cell_type": "code",
   "execution_count": 16,
   "id": "f506a5de",
   "metadata": {},
   "outputs": [
    {
     "data": {
      "text/plain": [
       "(Timestamp('2020-01-03 00:00:00'), Timestamp('2021-03-31 00:00:00'))"
      ]
     },
     "execution_count": 16,
     "metadata": {},
     "output_type": "execute_result"
    }
   ],
   "source": [
    "first_day=russia.index.min()\n",
    "last_day=russia.index.max()\n",
    "\n",
    "first_day, last_day"
   ]
  },
  {
   "cell_type": "markdown",
   "id": "d8080762",
   "metadata": {},
   "source": [
    "The dataframe starts in 2020 Jan and ends in 2021 Mar."
   ]
  },
  {
   "cell_type": "markdown",
   "id": "fe20a22b",
   "metadata": {},
   "source": [
    "### Missing values and dates\n",
    "We will check if there are any dates missing from our index. We can construct the full date range between our first and last observation date and see the difference with our index."
   ]
  },
  {
   "cell_type": "code",
   "execution_count": 17,
   "id": "797b8a10",
   "metadata": {},
   "outputs": [
    {
     "data": {
      "text/plain": [
       "DatetimeIndex(['2020-01-04', '2020-01-05', '2020-01-07', '2020-01-11',\n",
       "               '2020-01-12', '2020-01-18', '2020-01-19', '2020-01-25',\n",
       "               '2020-01-26', '2020-02-01',\n",
       "               ...\n",
       "               '2021-02-28', '2021-03-06', '2021-03-07', '2021-03-08',\n",
       "               '2021-03-13', '2021-03-14', '2021-03-20', '2021-03-21',\n",
       "               '2021-03-27', '2021-03-28'],\n",
       "              dtype='datetime64[ns]', length=143, freq=None)"
      ]
     },
     "execution_count": 17,
     "metadata": {},
     "output_type": "execute_result"
    }
   ],
   "source": [
    "#look at the actual number of dates that exist for this time period\n",
    "full_range = pd.date_range(start=first_day, end=last_day, freq=\"D\")\n",
    "\n",
    "#look at and compares the actual number of dates in a calendar to the number of dates in our dataset\n",
    "missing_date=full_range.difference(russia.index)\n",
    "missing_date"
   ]
  },
  {
   "cell_type": "markdown",
   "id": "2a9c604d",
   "metadata": {},
   "source": [
    "We miss price values for 143 days from 2020 Jan to 2021 Mar."
   ]
  },
  {
   "cell_type": "code",
   "execution_count": 18,
   "id": "719ec0ff",
   "metadata": {},
   "outputs": [
    {
     "name": "stdout",
     "output_type": "stream",
     "text": [
      "{'country': RU, 'expand': True, 'language': en_us, 'market': None, 'observed': True, 'subdiv': None, 'years': set()}\n"
     ]
    }
   ],
   "source": [
    "import holidays\n",
    "\n",
    "ru_holidays=holidays.country_holidays('RU',language='en_US')\n",
    "print(ru_holidays)"
   ]
  },
  {
   "cell_type": "code",
   "execution_count": 19,
   "id": "b2aa8b92",
   "metadata": {},
   "outputs": [
    {
     "data": {
      "text/html": [
       "<div>\n",
       "<style scoped>\n",
       "    .dataframe tbody tr th:only-of-type {\n",
       "        vertical-align: middle;\n",
       "    }\n",
       "\n",
       "    .dataframe tbody tr th {\n",
       "        vertical-align: top;\n",
       "    }\n",
       "\n",
       "    .dataframe thead th {\n",
       "        text-align: right;\n",
       "    }\n",
       "</style>\n",
       "<table border=\"1\" class=\"dataframe\">\n",
       "  <thead>\n",
       "    <tr style=\"text-align: right;\">\n",
       "      <th></th>\n",
       "      <th>missing_date</th>\n",
       "      <th>Day name</th>\n",
       "    </tr>\n",
       "  </thead>\n",
       "  <tbody>\n",
       "    <tr>\n",
       "      <th>0</th>\n",
       "      <td>2020-01-04</td>\n",
       "      <td>New Year Holidays</td>\n",
       "    </tr>\n",
       "    <tr>\n",
       "      <th>1</th>\n",
       "      <td>2020-01-05</td>\n",
       "      <td>New Year Holidays</td>\n",
       "    </tr>\n",
       "    <tr>\n",
       "      <th>2</th>\n",
       "      <td>2020-01-07</td>\n",
       "      <td>Christmas Day</td>\n",
       "    </tr>\n",
       "    <tr>\n",
       "      <th>3</th>\n",
       "      <td>2020-01-11</td>\n",
       "      <td>Saturday</td>\n",
       "    </tr>\n",
       "    <tr>\n",
       "      <th>4</th>\n",
       "      <td>2020-01-12</td>\n",
       "      <td>Sunday</td>\n",
       "    </tr>\n",
       "    <tr>\n",
       "      <th>...</th>\n",
       "      <td>...</td>\n",
       "      <td>...</td>\n",
       "    </tr>\n",
       "    <tr>\n",
       "      <th>138</th>\n",
       "      <td>2021-03-14</td>\n",
       "      <td>Sunday</td>\n",
       "    </tr>\n",
       "    <tr>\n",
       "      <th>139</th>\n",
       "      <td>2021-03-20</td>\n",
       "      <td>Saturday</td>\n",
       "    </tr>\n",
       "    <tr>\n",
       "      <th>140</th>\n",
       "      <td>2021-03-21</td>\n",
       "      <td>Sunday</td>\n",
       "    </tr>\n",
       "    <tr>\n",
       "      <th>141</th>\n",
       "      <td>2021-03-27</td>\n",
       "      <td>Saturday</td>\n",
       "    </tr>\n",
       "    <tr>\n",
       "      <th>142</th>\n",
       "      <td>2021-03-28</td>\n",
       "      <td>Sunday</td>\n",
       "    </tr>\n",
       "  </tbody>\n",
       "</table>\n",
       "<p>143 rows × 2 columns</p>\n",
       "</div>"
      ],
      "text/plain": [
       "    missing_date           Day name\n",
       "0     2020-01-04  New Year Holidays\n",
       "1     2020-01-05  New Year Holidays\n",
       "2     2020-01-07      Christmas Day\n",
       "3     2020-01-11           Saturday\n",
       "4     2020-01-12             Sunday\n",
       "..           ...                ...\n",
       "138   2021-03-14             Sunday\n",
       "139   2021-03-20           Saturday\n",
       "140   2021-03-21             Sunday\n",
       "141   2021-03-27           Saturday\n",
       "142   2021-03-28             Sunday\n",
       "\n",
       "[143 rows x 2 columns]"
      ]
     },
     "execution_count": 19,
     "metadata": {},
     "output_type": "execute_result"
    }
   ],
   "source": [
    "# look at what days are missing\n",
    "missing_date_df=pd.DataFrame({'missing_date':missing_date})\n",
    "for index,value in missing_date_df['missing_date'].items():\n",
    "    if value in ru_holidays:\n",
    "        missing_date_df.loc[index,'Day name']=ru_holidays.get(value) \n",
    "    else:\n",
    "        missing_date_df.loc[index,'Day name']=value.day_name()\n",
    "\n",
    "missing_date_df"
   ]
  },
  {
   "cell_type": "code",
   "execution_count": 20,
   "id": "fde59f8d",
   "metadata": {},
   "outputs": [
    {
     "data": {
      "text/plain": [
       "Day name\n",
       "Saturday                       61\n",
       "Sunday                         61\n",
       "New Year Holidays               5\n",
       "Monday                          3\n",
       "Christmas Day                   2\n",
       "Fatherland Defender's Day       2\n",
       "International Women's Day       2\n",
       "Wednesday                       2\n",
       "Holiday of Spring and Labor     1\n",
       "Victory Day                     1\n",
       "Russia Day                      1\n",
       "Unity Day                       1\n",
       "Thursday                        1\n",
       "Name: count, dtype: int64"
      ]
     },
     "execution_count": 20,
     "metadata": {},
     "output_type": "execute_result"
    }
   ],
   "source": [
    "missing_date_df['Day name'].value_counts()"
   ]
  },
  {
   "cell_type": "markdown",
   "id": "33ab17e2",
   "metadata": {},
   "source": [
    "Sure enough, the missing days are mostly the days when the market closed or holidays. Let's see how the gaps present."
   ]
  },
  {
   "cell_type": "code",
   "execution_count": 21,
   "id": "2e0fa04c",
   "metadata": {},
   "outputs": [],
   "source": [
    "# russia with full day range\n",
    "russia_clean = russia.reindex(full_range)"
   ]
  },
  {
   "cell_type": "code",
   "execution_count": 22,
   "id": "79e0d864",
   "metadata": {},
   "outputs": [
    {
     "name": "stderr",
     "output_type": "stream",
     "text": [
      "No artists with labels found to put in legend.  Note that artists whose label start with an underscore are ignored when legend() is called with no argument.\n"
     ]
    },
    {
     "data": {
      "image/png": "[encoded data removed]",
      "text/plain": [
       "<Figure size 1000x500 with 1 Axes>"
      ]
     },
     "metadata": {},
     "output_type": "display_data"
    }
   ],
   "source": [
    "plt.figure(figsize=(10,5))\n",
    "plt.plot(russia_clean.index, russia_clean[\"Price\"], color='blue')\n",
    "plt.title('Russian Company - Daily price from Jan 2020 to Mar 2021')\n",
    "plt.legend(loc='best')\n",
    "plt.show()"
   ]
  },
  {
   "cell_type": "markdown",
   "id": "fb650ea1",
   "metadata": {},
   "source": [
    "Now we'll set up the datasets for training, testing and predicting. \n",
    "\n",
    "Training set will be Q1, Q2, and Q3 2020, testing set is Q4 2020, and predicting set is 2021.\n",
    "As their names suggest, training set will be used for the purpose of training, testing set is for fine tuning the model, predicting set is for evaluating the performance between models. "
   ]
  },
  {
   "cell_type": "code",
   "execution_count": 23,
   "id": "43b59c67",
   "metadata": {
    "scrolled": true
   },
   "outputs": [],
   "source": [
    "russia_train=russia.loc[russia.index < \"2020-10-01\", [\"Price\"]]\n",
    "russia_test=russia.loc[(russia.index > \"2020-09-30\") & (russia.index < \"2021-01-01\"),['Price']]\n",
    "russia_predict=russia.loc[russia.index > \"2020-12-31\", [\"Price\"]]"
   ]
  },
  {
   "cell_type": "code",
   "execution_count": 24,
   "id": "887150e8",
   "metadata": {
    "scrolled": true
   },
   "outputs": [
    {
     "name": "stdout",
     "output_type": "stream",
     "text": [
      "Training indices: 2020-01-03 00:00:00 2020-09-30 00:00:00\n",
      "Testing indices: 2020-10-01 00:00:00 2020-12-30 00:00:00\n",
      "Predicting indices: 2021-01-04 00:00:00 2021-03-31 00:00:00\n"
     ]
    }
   ],
   "source": [
    "# sanity check\n",
    "print('Training indices:',russia_train.index.min(), russia_train.index.max())\n",
    "print('Testing indices:',russia_test.index.min(), russia_test.index.max())\n",
    "print('Predicting indices:',russia_predict.index.min(), russia_predict.index.max())"
   ]
  },
  {
   "cell_type": "code",
   "execution_count": 25,
   "id": "c2c6084b",
   "metadata": {},
   "outputs": [
    {
     "data": {
      "image/png": "[encoded data removed]",
      "text/plain": [
       "<Figure size 1000x500 with 1 Axes>"
      ]
     },
     "metadata": {},
     "output_type": "display_data"
    }
   ],
   "source": [
    "plt.figure(figsize=(10,5))\n",
    "plt.plot(russia_train.index, russia_train['Price'], color='blue', label='Train')\n",
    "plt.plot(russia_test.index, russia_test['Price'], color='red', label='Test')\n",
    "plt.plot(russia_predict.index, russia_predict['Price'], color='green', label=\"Predict\")\n",
    "plt.legend(loc='best')\n",
    "plt.show()"
   ]
  },
  {
   "cell_type": "markdown",
   "id": "76192597",
   "metadata": {},
   "source": [
    "# Data Splitting <a class=\"anchor\" id=\"pipe\"></a>"
   ]
  },
  {
   "cell_type": "markdown",
   "id": "40465009",
   "metadata": {},
   "source": [
    "Look at the dataframes again."
   ]
  },
  {
   "cell_type": "code",
   "execution_count": 26,
   "id": "5c03632b",
   "metadata": {
    "scrolled": true
   },
   "outputs": [
    {
     "data": {
      "text/html": [
       "<div>\n",
       "<style scoped>\n",
       "    .dataframe tbody tr th:only-of-type {\n",
       "        vertical-align: middle;\n",
       "    }\n",
       "\n",
       "    .dataframe tbody tr th {\n",
       "        vertical-align: top;\n",
       "    }\n",
       "\n",
       "    .dataframe thead th {\n",
       "        text-align: right;\n",
       "    }\n",
       "</style>\n",
       "<table border=\"1\" class=\"dataframe\">\n",
       "  <thead>\n",
       "    <tr style=\"text-align: right;\">\n",
       "      <th></th>\n",
       "      <th>Price</th>\n",
       "    </tr>\n",
       "    <tr>\n",
       "      <th>Date</th>\n",
       "      <th></th>\n",
       "    </tr>\n",
       "  </thead>\n",
       "  <tbody>\n",
       "    <tr>\n",
       "      <th>2020-09-30</th>\n",
       "      <td>229.14</td>\n",
       "    </tr>\n",
       "    <tr>\n",
       "      <th>2020-09-29</th>\n",
       "      <td>225.48</td>\n",
       "    </tr>\n",
       "    <tr>\n",
       "      <th>2020-09-28</th>\n",
       "      <td>228.63</td>\n",
       "    </tr>\n",
       "    <tr>\n",
       "      <th>2020-09-25</th>\n",
       "      <td>228.24</td>\n",
       "    </tr>\n",
       "    <tr>\n",
       "      <th>2020-09-24</th>\n",
       "      <td>228.17</td>\n",
       "    </tr>\n",
       "    <tr>\n",
       "      <th>...</th>\n",
       "      <td>...</td>\n",
       "    </tr>\n",
       "    <tr>\n",
       "      <th>2020-01-10</th>\n",
       "      <td>258.19</td>\n",
       "    </tr>\n",
       "    <tr>\n",
       "      <th>2020-01-09</th>\n",
       "      <td>257.99</td>\n",
       "    </tr>\n",
       "    <tr>\n",
       "      <th>2020-01-08</th>\n",
       "      <td>259.15</td>\n",
       "    </tr>\n",
       "    <tr>\n",
       "      <th>2020-01-06</th>\n",
       "      <td>253.90</td>\n",
       "    </tr>\n",
       "    <tr>\n",
       "      <th>2020-01-03</th>\n",
       "      <td>255.00</td>\n",
       "    </tr>\n",
       "  </tbody>\n",
       "</table>\n",
       "<p>186 rows × 1 columns</p>\n",
       "</div>"
      ],
      "text/plain": [
       "             Price\n",
       "Date              \n",
       "2020-09-30  229.14\n",
       "2020-09-29  225.48\n",
       "2020-09-28  228.63\n",
       "2020-09-25  228.24\n",
       "2020-09-24  228.17\n",
       "...            ...\n",
       "2020-01-10  258.19\n",
       "2020-01-09  257.99\n",
       "2020-01-08  259.15\n",
       "2020-01-06  253.90\n",
       "2020-01-03  255.00\n",
       "\n",
       "[186 rows x 1 columns]"
      ]
     },
     "execution_count": 26,
     "metadata": {},
     "output_type": "execute_result"
    }
   ],
   "source": [
    "russia_train"
   ]
  },
  {
   "cell_type": "markdown",
   "id": "e77621e1",
   "metadata": {},
   "source": [
    "The indices are not in ascending order. Let's fix them."
   ]
  },
  {
   "cell_type": "code",
   "execution_count": 27,
   "id": "1b680b16",
   "metadata": {},
   "outputs": [],
   "source": [
    "# sort index\n",
    "russia_train.sort_index(ascending=True, inplace=True)\n",
    "russia_test.sort_index(ascending=True, inplace=True)\n",
    "russia_predict.sort_index(ascending=True, inplace=True)"
   ]
  },
  {
   "cell_type": "code",
   "execution_count": 28,
   "id": "9a526556",
   "metadata": {
    "scrolled": true
   },
   "outputs": [
    {
     "data": {
      "text/html": [
       "<div>\n",
       "<style scoped>\n",
       "    .dataframe tbody tr th:only-of-type {\n",
       "        vertical-align: middle;\n",
       "    }\n",
       "\n",
       "    .dataframe tbody tr th {\n",
       "        vertical-align: top;\n",
       "    }\n",
       "\n",
       "    .dataframe thead th {\n",
       "        text-align: right;\n",
       "    }\n",
       "</style>\n",
       "<table border=\"1\" class=\"dataframe\">\n",
       "  <thead>\n",
       "    <tr style=\"text-align: right;\">\n",
       "      <th></th>\n",
       "      <th>Price</th>\n",
       "    </tr>\n",
       "    <tr>\n",
       "      <th>Date</th>\n",
       "      <th></th>\n",
       "    </tr>\n",
       "  </thead>\n",
       "  <tbody>\n",
       "    <tr>\n",
       "      <th>2020-01-03</th>\n",
       "      <td>255.00</td>\n",
       "    </tr>\n",
       "    <tr>\n",
       "      <th>2020-01-06</th>\n",
       "      <td>253.90</td>\n",
       "    </tr>\n",
       "    <tr>\n",
       "      <th>2020-01-08</th>\n",
       "      <td>259.15</td>\n",
       "    </tr>\n",
       "    <tr>\n",
       "      <th>2020-01-09</th>\n",
       "      <td>257.99</td>\n",
       "    </tr>\n",
       "    <tr>\n",
       "      <th>2020-01-10</th>\n",
       "      <td>258.19</td>\n",
       "    </tr>\n",
       "    <tr>\n",
       "      <th>...</th>\n",
       "      <td>...</td>\n",
       "    </tr>\n",
       "    <tr>\n",
       "      <th>2020-09-24</th>\n",
       "      <td>228.17</td>\n",
       "    </tr>\n",
       "    <tr>\n",
       "      <th>2020-09-25</th>\n",
       "      <td>228.24</td>\n",
       "    </tr>\n",
       "    <tr>\n",
       "      <th>2020-09-28</th>\n",
       "      <td>228.63</td>\n",
       "    </tr>\n",
       "    <tr>\n",
       "      <th>2020-09-29</th>\n",
       "      <td>225.48</td>\n",
       "    </tr>\n",
       "    <tr>\n",
       "      <th>2020-09-30</th>\n",
       "      <td>229.14</td>\n",
       "    </tr>\n",
       "  </tbody>\n",
       "</table>\n",
       "<p>186 rows × 1 columns</p>\n",
       "</div>"
      ],
      "text/plain": [
       "             Price\n",
       "Date              \n",
       "2020-01-03  255.00\n",
       "2020-01-06  253.90\n",
       "2020-01-08  259.15\n",
       "2020-01-09  257.99\n",
       "2020-01-10  258.19\n",
       "...            ...\n",
       "2020-09-24  228.17\n",
       "2020-09-25  228.24\n",
       "2020-09-28  228.63\n",
       "2020-09-29  225.48\n",
       "2020-09-30  229.14\n",
       "\n",
       "[186 rows x 1 columns]"
      ]
     },
     "execution_count": 28,
     "metadata": {},
     "output_type": "execute_result"
    }
   ],
   "source": [
    "# sanity check\n",
    "russia_train"
   ]
  },
  {
   "cell_type": "markdown",
   "id": "e92c6017",
   "metadata": {},
   "source": [
    "# Modelling <a class=\"anchor\" id=\"md\"></a>"
   ]
  },
  {
   "cell_type": "markdown",
   "id": "79c3f184",
   "metadata": {},
   "source": [
    "## Moving Average <a class=\"anchor\" id=\"ti\"></a>"
   ]
  },
  {
   "cell_type": "markdown",
   "id": "25bda01a",
   "metadata": {},
   "source": [
    "We'll use the average of the last *window-size* prices to create the predicted price in the test set, ie. for 5-day moving average `MA5`, the first day on the test set will equal the average of the last **5-day** prices in the train set. And we'll tune the window size for MA, whether 5, 10 or 21 days will best predict this dataset."
   ]
  },
  {
   "cell_type": "code",
   "execution_count": 29,
   "id": "c515cb57",
   "metadata": {
    "scrolled": true
   },
   "outputs": [
    {
     "data": {
      "text/html": [
       "<div>\n",
       "<style scoped>\n",
       "    .dataframe tbody tr th:only-of-type {\n",
       "        vertical-align: middle;\n",
       "    }\n",
       "\n",
       "    .dataframe tbody tr th {\n",
       "        vertical-align: top;\n",
       "    }\n",
       "\n",
       "    .dataframe thead th {\n",
       "        text-align: right;\n",
       "    }\n",
       "</style>\n",
       "<table border=\"1\" class=\"dataframe\">\n",
       "  <thead>\n",
       "    <tr style=\"text-align: right;\">\n",
       "      <th></th>\n",
       "      <th>Date</th>\n",
       "      <th>Price</th>\n",
       "      <th>MA5</th>\n",
       "      <th>MA10</th>\n",
       "      <th>MA21</th>\n",
       "    </tr>\n",
       "  </thead>\n",
       "  <tbody>\n",
       "    <tr>\n",
       "      <th>0</th>\n",
       "      <td>2020-09-02</td>\n",
       "      <td>222.57</td>\n",
       "      <td>222.570000</td>\n",
       "      <td>222.570000</td>\n",
       "      <td>222.570000</td>\n",
       "    </tr>\n",
       "    <tr>\n",
       "      <th>1</th>\n",
       "      <td>2020-09-03</td>\n",
       "      <td>218.32</td>\n",
       "      <td>218.320000</td>\n",
       "      <td>218.320000</td>\n",
       "      <td>218.320000</td>\n",
       "    </tr>\n",
       "    <tr>\n",
       "      <th>2</th>\n",
       "      <td>2020-09-04</td>\n",
       "      <td>222.21</td>\n",
       "      <td>222.210000</td>\n",
       "      <td>222.210000</td>\n",
       "      <td>222.210000</td>\n",
       "    </tr>\n",
       "    <tr>\n",
       "      <th>3</th>\n",
       "      <td>2020-09-07</td>\n",
       "      <td>221.32</td>\n",
       "      <td>221.320000</td>\n",
       "      <td>221.320000</td>\n",
       "      <td>221.320000</td>\n",
       "    </tr>\n",
       "    <tr>\n",
       "      <th>4</th>\n",
       "      <td>2020-09-08</td>\n",
       "      <td>217.68</td>\n",
       "      <td>217.680000</td>\n",
       "      <td>217.680000</td>\n",
       "      <td>217.680000</td>\n",
       "    </tr>\n",
       "    <tr>\n",
       "      <th>5</th>\n",
       "      <td>2020-09-09</td>\n",
       "      <td>218.00</td>\n",
       "      <td>218.000000</td>\n",
       "      <td>218.000000</td>\n",
       "      <td>218.000000</td>\n",
       "    </tr>\n",
       "    <tr>\n",
       "      <th>6</th>\n",
       "      <td>2020-09-10</td>\n",
       "      <td>220.60</td>\n",
       "      <td>220.600000</td>\n",
       "      <td>220.600000</td>\n",
       "      <td>220.600000</td>\n",
       "    </tr>\n",
       "    <tr>\n",
       "      <th>7</th>\n",
       "      <td>2020-09-11</td>\n",
       "      <td>221.07</td>\n",
       "      <td>221.070000</td>\n",
       "      <td>221.070000</td>\n",
       "      <td>221.070000</td>\n",
       "    </tr>\n",
       "    <tr>\n",
       "      <th>8</th>\n",
       "      <td>2020-09-14</td>\n",
       "      <td>227.37</td>\n",
       "      <td>227.370000</td>\n",
       "      <td>227.370000</td>\n",
       "      <td>227.370000</td>\n",
       "    </tr>\n",
       "    <tr>\n",
       "      <th>9</th>\n",
       "      <td>2020-09-15</td>\n",
       "      <td>231.50</td>\n",
       "      <td>231.500000</td>\n",
       "      <td>231.500000</td>\n",
       "      <td>231.500000</td>\n",
       "    </tr>\n",
       "    <tr>\n",
       "      <th>10</th>\n",
       "      <td>2020-09-16</td>\n",
       "      <td>231.06</td>\n",
       "      <td>231.060000</td>\n",
       "      <td>231.060000</td>\n",
       "      <td>231.060000</td>\n",
       "    </tr>\n",
       "    <tr>\n",
       "      <th>11</th>\n",
       "      <td>2020-09-17</td>\n",
       "      <td>231.46</td>\n",
       "      <td>231.460000</td>\n",
       "      <td>231.460000</td>\n",
       "      <td>231.460000</td>\n",
       "    </tr>\n",
       "    <tr>\n",
       "      <th>12</th>\n",
       "      <td>2020-09-18</td>\n",
       "      <td>230.30</td>\n",
       "      <td>230.300000</td>\n",
       "      <td>230.300000</td>\n",
       "      <td>230.300000</td>\n",
       "    </tr>\n",
       "    <tr>\n",
       "      <th>13</th>\n",
       "      <td>2020-09-21</td>\n",
       "      <td>226.25</td>\n",
       "      <td>226.250000</td>\n",
       "      <td>226.250000</td>\n",
       "      <td>226.250000</td>\n",
       "    </tr>\n",
       "    <tr>\n",
       "      <th>14</th>\n",
       "      <td>2020-09-22</td>\n",
       "      <td>229.88</td>\n",
       "      <td>229.880000</td>\n",
       "      <td>229.880000</td>\n",
       "      <td>229.880000</td>\n",
       "    </tr>\n",
       "    <tr>\n",
       "      <th>15</th>\n",
       "      <td>2020-09-23</td>\n",
       "      <td>228.50</td>\n",
       "      <td>228.500000</td>\n",
       "      <td>228.500000</td>\n",
       "      <td>228.500000</td>\n",
       "    </tr>\n",
       "    <tr>\n",
       "      <th>16</th>\n",
       "      <td>2020-09-24</td>\n",
       "      <td>228.17</td>\n",
       "      <td>228.170000</td>\n",
       "      <td>228.170000</td>\n",
       "      <td>228.170000</td>\n",
       "    </tr>\n",
       "    <tr>\n",
       "      <th>17</th>\n",
       "      <td>2020-09-25</td>\n",
       "      <td>228.24</td>\n",
       "      <td>228.240000</td>\n",
       "      <td>228.240000</td>\n",
       "      <td>228.240000</td>\n",
       "    </tr>\n",
       "    <tr>\n",
       "      <th>18</th>\n",
       "      <td>2020-09-28</td>\n",
       "      <td>228.63</td>\n",
       "      <td>228.630000</td>\n",
       "      <td>228.630000</td>\n",
       "      <td>228.630000</td>\n",
       "    </tr>\n",
       "    <tr>\n",
       "      <th>19</th>\n",
       "      <td>2020-09-29</td>\n",
       "      <td>225.48</td>\n",
       "      <td>225.480000</td>\n",
       "      <td>225.480000</td>\n",
       "      <td>225.480000</td>\n",
       "    </tr>\n",
       "    <tr>\n",
       "      <th>20</th>\n",
       "      <td>2020-09-30</td>\n",
       "      <td>229.14</td>\n",
       "      <td>229.140000</td>\n",
       "      <td>229.140000</td>\n",
       "      <td>229.140000</td>\n",
       "    </tr>\n",
       "    <tr>\n",
       "      <th>21</th>\n",
       "      <td>2020-10-01</td>\n",
       "      <td>227.23</td>\n",
       "      <td>227.932000</td>\n",
       "      <td>228.605000</td>\n",
       "      <td>225.607143</td>\n",
       "    </tr>\n",
       "    <tr>\n",
       "      <th>22</th>\n",
       "      <td>2020-10-02</td>\n",
       "      <td>208.80</td>\n",
       "      <td>227.884400</td>\n",
       "      <td>228.319500</td>\n",
       "      <td>225.751769</td>\n",
       "    </tr>\n",
       "    <tr>\n",
       "      <th>23</th>\n",
       "      <td>2020-10-05</td>\n",
       "      <td>208.89</td>\n",
       "      <td>227.813280</td>\n",
       "      <td>228.121450</td>\n",
       "      <td>226.105662</td>\n",
       "    </tr>\n",
       "    <tr>\n",
       "      <th>24</th>\n",
       "      <td>2020-10-06</td>\n",
       "      <td>211.18</td>\n",
       "      <td>227.649936</td>\n",
       "      <td>228.308595</td>\n",
       "      <td>226.291170</td>\n",
       "    </tr>\n",
       "    <tr>\n",
       "      <th>25</th>\n",
       "      <td>2020-10-07</td>\n",
       "      <td>210.60</td>\n",
       "      <td>228.083923</td>\n",
       "      <td>228.151454</td>\n",
       "      <td>226.527893</td>\n",
       "    </tr>\n",
       "    <tr>\n",
       "      <th>26</th>\n",
       "      <td>2020-10-08</td>\n",
       "      <td>207.97</td>\n",
       "      <td>227.872708</td>\n",
       "      <td>228.116600</td>\n",
       "      <td>226.949221</td>\n",
       "    </tr>\n",
       "    <tr>\n",
       "      <th>27</th>\n",
       "      <td>2020-10-09</td>\n",
       "      <td>205.38</td>\n",
       "      <td>227.860849</td>\n",
       "      <td>228.111260</td>\n",
       "      <td>227.375374</td>\n",
       "    </tr>\n",
       "    <tr>\n",
       "      <th>28</th>\n",
       "      <td>2020-10-12</td>\n",
       "      <td>206.18</td>\n",
       "      <td>227.856139</td>\n",
       "      <td>228.098386</td>\n",
       "      <td>227.698011</td>\n",
       "    </tr>\n",
       "    <tr>\n",
       "      <th>29</th>\n",
       "      <td>2020-10-13</td>\n",
       "      <td>205.03</td>\n",
       "      <td>227.864711</td>\n",
       "      <td>228.045225</td>\n",
       "      <td>228.013631</td>\n",
       "    </tr>\n",
       "  </tbody>\n",
       "</table>\n",
       "</div>"
      ],
      "text/plain": [
       "         Date   Price         MA5        MA10        MA21\n",
       "0  2020-09-02  222.57  222.570000  222.570000  222.570000\n",
       "1  2020-09-03  218.32  218.320000  218.320000  218.320000\n",
       "2  2020-09-04  222.21  222.210000  222.210000  222.210000\n",
       "3  2020-09-07  221.32  221.320000  221.320000  221.320000\n",
       "4  2020-09-08  217.68  217.680000  217.680000  217.680000\n",
       "5  2020-09-09  218.00  218.000000  218.000000  218.000000\n",
       "6  2020-09-10  220.60  220.600000  220.600000  220.600000\n",
       "7  2020-09-11  221.07  221.070000  221.070000  221.070000\n",
       "8  2020-09-14  227.37  227.370000  227.370000  227.370000\n",
       "9  2020-09-15  231.50  231.500000  231.500000  231.500000\n",
       "10 2020-09-16  231.06  231.060000  231.060000  231.060000\n",
       "11 2020-09-17  231.46  231.460000  231.460000  231.460000\n",
       "12 2020-09-18  230.30  230.300000  230.300000  230.300000\n",
       "13 2020-09-21  226.25  226.250000  226.250000  226.250000\n",
       "14 2020-09-22  229.88  229.880000  229.880000  229.880000\n",
       "15 2020-09-23  228.50  228.500000  228.500000  228.500000\n",
       "16 2020-09-24  228.17  228.170000  228.170000  228.170000\n",
       "17 2020-09-25  228.24  228.240000  228.240000  228.240000\n",
       "18 2020-09-28  228.63  228.630000  228.630000  228.630000\n",
       "19 2020-09-29  225.48  225.480000  225.480000  225.480000\n",
       "20 2020-09-30  229.14  229.140000  229.140000  229.140000\n",
       "21 2020-10-01  227.23  227.932000  228.605000  225.607143\n",
       "22 2020-10-02  208.80  227.884400  228.319500  225.751769\n",
       "23 2020-10-05  208.89  227.813280  228.121450  226.105662\n",
       "24 2020-10-06  211.18  227.649936  228.308595  226.291170\n",
       "25 2020-10-07  210.60  228.083923  228.151454  226.527893\n",
       "26 2020-10-08  207.97  227.872708  228.116600  226.949221\n",
       "27 2020-10-09  205.38  227.860849  228.111260  227.375374\n",
       "28 2020-10-12  206.18  227.856139  228.098386  227.698011\n",
       "29 2020-10-13  205.03  227.864711  228.045225  228.013631"
      ]
     },
     "execution_count": 29,
     "metadata": {},
     "output_type": "execute_result"
    }
   ],
   "source": [
    "ti_test=pd.concat([russia_train.tail(21), russia_test])\n",
    "ti_test=ti_test.reset_index() # reset index for the sake of self sanity-check\n",
    "\n",
    "ti_test['MA5']=0\n",
    "ti_test['MA10']=0\n",
    "ti_test['MA21']=0\n",
    "\n",
    "ti_test['MA5'][:21]=ti_test['Price'][:21] \n",
    "ti_test['MA10'][:21]=ti_test['Price'][:21]\n",
    "ti_test['MA21'][:21]=ti_test['Price'][:21]\n",
    "\n",
    "for i in range (21,len(ti_test)):\n",
    "    ti_test['MA5'][i]=np.mean(ti_test['MA5'][i-5:i]) # price on Oct 1 is the average of the last 5 prices in Sep\n",
    "    ti_test['MA10'][i]=np.mean(ti_test['MA10'][i-10:i])\n",
    "    ti_test['MA21'][i]=np.mean(ti_test['MA21'][i-21:i])\n",
    "\n",
    "ti_test.head(30)"
   ]
  },
  {
   "cell_type": "code",
   "execution_count": 30,
   "id": "c71a7de5",
   "metadata": {},
   "outputs": [
    {
     "name": "stdout",
     "output_type": "stream",
     "text": [
      "MAPE 5-day MA: 0.1092882554535193\n",
      "MAPE 10-day MA: 0.10924506227244174\n",
      "MAPE 21-day MA: 0.10932010411790596\n"
     ]
    },
    {
     "data": {
      "image/png": "[encoded data removed]",
      "text/plain": [
       "<Figure size 1000x500 with 1 Axes>"
      ]
     },
     "metadata": {},
     "output_type": "display_data"
    }
   ],
   "source": [
    "# get the values from October only\n",
    "ti_test_oct=ti_test[21:]\n",
    "\n",
    "y_true_ma=np.array(ti_test_oct['Price'])\n",
    "y_pred_5ma=np.array(ti_test_oct['MA5'])\n",
    "y_pred_10ma=np.array(ti_test_oct['MA10'])\n",
    "y_pred_21ma=np.array(ti_test_oct['MA21'])\n",
    "print('MAPE 5-day MA:',mean_absolute_percentage_error(y_true_ma, y_pred_5ma))\n",
    "print('MAPE 10-day MA:',mean_absolute_percentage_error(y_true_ma, y_pred_10ma))\n",
    "print('MAPE 21-day MA:',mean_absolute_percentage_error(y_true_ma, y_pred_21ma))\n",
    "\n",
    "plt.figure(figsize=(10,5))\n",
    "plt.plot(ti_test_oct['Price'], color='blue',label='Price')\n",
    "plt.plot(ti_test_oct['MA5'], color='red', label='MA5')\n",
    "plt.plot(ti_test_oct['MA10'], color='green', label='MA10')\n",
    "plt.plot(ti_test_oct['MA21'], color='orange', label='MA21')\n",
    "plt.legend(loc='best')\n",
    "plt.show()"
   ]
  },
  {
   "cell_type": "markdown",
   "id": "954da729",
   "metadata": {},
   "source": [
    "Sure enough, MA is a straight line since we use predicted prices to predict the next ones."
   ]
  },
  {
   "cell_type": "markdown",
   "id": "b8f5ad79",
   "metadata": {},
   "source": [
    "# ARIMA <a class=\"anchor\" id=\"arima\"></a>"
   ]
  },
  {
   "cell_type": "code",
   "execution_count": 31,
   "id": "bcaa8e32",
   "metadata": {},
   "outputs": [],
   "source": [
    "from pmdarima.arima import auto_arima"
   ]
  },
  {
   "cell_type": "code",
   "execution_count": 32,
   "id": "864e93b3",
   "metadata": {},
   "outputs": [
    {
     "name": "stdout",
     "output_type": "stream",
     "text": [
      " ARIMA(0,1,0)(0,0,0)[0] intercept   : AIC=1499.638, Time=0.02 sec\n",
      " ARIMA(0,1,1)(0,0,0)[0] intercept   : AIC=1501.180, Time=0.02 sec\n",
      " ARIMA(0,1,2)(0,0,0)[0] intercept   : AIC=1502.675, Time=0.03 sec\n",
      " ARIMA(0,1,3)(0,0,0)[0] intercept   : AIC=1504.674, Time=0.06 sec\n",
      " ARIMA(0,1,4)(0,0,0)[0] intercept   : AIC=1498.791, Time=0.12 sec\n",
      " ARIMA(0,1,5)(0,0,0)[0] intercept   : AIC=1500.777, Time=0.14 sec\n",
      " ARIMA(1,1,0)(0,0,0)[0] intercept   : AIC=1501.228, Time=0.03 sec\n",
      " ARIMA(1,1,1)(0,0,0)[0] intercept   : AIC=1502.372, Time=0.10 sec\n",
      " ARIMA(1,1,2)(0,0,0)[0] intercept   : AIC=1504.675, Time=0.08 sec\n",
      " ARIMA(1,1,3)(0,0,0)[0] intercept   : AIC=1505.818, Time=0.11 sec\n",
      " ARIMA(1,1,4)(0,0,0)[0] intercept   : AIC=1500.782, Time=0.15 sec\n",
      " ARIMA(2,1,0)(0,0,0)[0] intercept   : AIC=1502.533, Time=0.05 sec\n",
      " ARIMA(2,1,1)(0,0,0)[0] intercept   : AIC=1504.526, Time=0.12 sec\n",
      " ARIMA(2,1,2)(0,0,0)[0] intercept   : AIC=inf, Time=0.32 sec\n",
      " ARIMA(2,1,3)(0,0,0)[0] intercept   : AIC=1498.601, Time=0.32 sec\n",
      " ARIMA(3,1,0)(0,0,0)[0] intercept   : AIC=1504.485, Time=0.09 sec\n",
      " ARIMA(3,1,1)(0,0,0)[0] intercept   : AIC=1504.839, Time=0.16 sec\n",
      " ARIMA(3,1,2)(0,0,0)[0] intercept   : AIC=inf, Time=0.31 sec\n",
      " ARIMA(4,1,0)(0,0,0)[0] intercept   : AIC=1501.043, Time=0.07 sec\n",
      " ARIMA(4,1,1)(0,0,0)[0] intercept   : AIC=1503.042, Time=0.12 sec\n",
      " ARIMA(5,1,0)(0,0,0)[0] intercept   : AIC=1503.041, Time=0.18 sec\n",
      "\n",
      "Best model:  ARIMA(2,1,3)(0,0,0)[0] intercept\n",
      "Total fit time: 2.630 seconds\n"
     ]
    },
    {
     "data": {
      "text/html": [
       "<style>#sk-container-id-1 {color: black;}#sk-container-id-1 pre{padding: 0;}#sk-container-id-1 div.sk-toggleable {background-color: white;}#sk-container-id-1 label.sk-toggleable__label {cursor: pointer;display: block;width: 100%;margin-bottom: 0;padding: 0.3em;box-sizing: border-box;text-align: center;}#sk-container-id-1 label.sk-toggleable__label-arrow:before {content: \"▸\";float: left;margin-right: 0.25em;color: #696969;}#sk-container-id-1 label.sk-toggleable__label-arrow:hover:before {color: black;}#sk-container-id-1 div.sk-estimator:hover label.sk-toggleable__label-arrow:before {color: black;}#sk-container-id-1 div.sk-toggleable__content {max-height: 0;max-width: 0;overflow: hidden;text-align: left;background-color: #f0f8ff;}#sk-container-id-1 div.sk-toggleable__content pre {margin: 0.2em;color: black;border-radius: 0.25em;background-color: #f0f8ff;}#sk-container-id-1 input.sk-toggleable__control:checked~div.sk-toggleable__content {max-height: 200px;max-width: 100%;overflow: auto;}#sk-container-id-1 input.sk-toggleable__control:checked~label.sk-toggleable__label-arrow:before {content: \"▾\";}#sk-container-id-1 div.sk-estimator input.sk-toggleable__control:checked~label.sk-toggleable__label {background-color: #d4ebff;}#sk-container-id-1 div.sk-label input.sk-toggleable__control:checked~label.sk-toggleable__label {background-color: #d4ebff;}#sk-container-id-1 input.sk-hidden--visually {border: 0;clip: rect(1px 1px 1px 1px);clip: rect(1px, 1px, 1px, 1px);height: 1px;margin: -1px;overflow: hidden;padding: 0;position: absolute;width: 1px;}#sk-container-id-1 div.sk-estimator {font-family: monospace;background-color: #f0f8ff;border: 1px dotted black;border-radius: 0.25em;box-sizing: border-box;margin-bottom: 0.5em;}#sk-container-id-1 div.sk-estimator:hover {background-color: #d4ebff;}#sk-container-id-1 div.sk-parallel-item::after {content: \"\";width: 100%;border-bottom: 1px solid gray;flex-grow: 1;}#sk-container-id-1 div.sk-label:hover label.sk-toggleable__label {background-color: #d4ebff;}#sk-container-id-1 div.sk-serial::before {content: \"\";position: absolute;border-left: 1px solid gray;box-sizing: border-box;top: 0;bottom: 0;left: 50%;z-index: 0;}#sk-container-id-1 div.sk-serial {display: flex;flex-direction: column;align-items: center;background-color: white;padding-right: 0.2em;padding-left: 0.2em;position: relative;}#sk-container-id-1 div.sk-item {position: relative;z-index: 1;}#sk-container-id-1 div.sk-parallel {display: flex;align-items: stretch;justify-content: center;background-color: white;position: relative;}#sk-container-id-1 div.sk-item::before, #sk-container-id-1 div.sk-parallel-item::before {content: \"\";position: absolute;border-left: 1px solid gray;box-sizing: border-box;top: 0;bottom: 0;left: 50%;z-index: -1;}#sk-container-id-1 div.sk-parallel-item {display: flex;flex-direction: column;z-index: 1;position: relative;background-color: white;}#sk-container-id-1 div.sk-parallel-item:first-child::after {align-self: flex-end;width: 50%;}#sk-container-id-1 div.sk-parallel-item:last-child::after {align-self: flex-start;width: 50%;}#sk-container-id-1 div.sk-parallel-item:only-child::after {width: 0;}#sk-container-id-1 div.sk-dashed-wrapped {border: 1px dashed gray;margin: 0 0.4em 0.5em 0.4em;box-sizing: border-box;padding-bottom: 0.4em;background-color: white;}#sk-container-id-1 div.sk-label label {font-family: monospace;font-weight: bold;display: inline-block;line-height: 1.2em;}#sk-container-id-1 div.sk-label-container {text-align: center;}#sk-container-id-1 div.sk-container {/* jupyter's `normalize.less` sets `[hidden] { display: none; }` but bootstrap.min.css set `[hidden] { display: none !important; }` so we also need the `!important` here to be able to override the default hidden behavior on the sphinx rendered scikit-learn.org. See: https://github.com/scikit-learn/scikit-learn/issues/21755 */display: inline-block !important;position: relative;}#sk-container-id-1 div.sk-text-repr-fallback {display: none;}</style><div id=\"sk-container-id-1\" class=\"sk-top-container\"><div class=\"sk-text-repr-fallback\"><pre> ARIMA(2,1,3)(0,0,0)[0] intercept</pre><b>In a Jupyter environment, please rerun this cell to show the HTML representation or trust the notebook. <br />On GitHub, the HTML representation is unable to render, please try loading this page with nbviewer.org.</b></div><div class=\"sk-container\" hidden><div class=\"sk-item\"><div class=\"sk-estimator sk-toggleable\"><input class=\"sk-toggleable__control sk-hidden--visually\" id=\"sk-estimator-id-1\" type=\"checkbox\" checked><label for=\"sk-estimator-id-1\" class=\"sk-toggleable__label sk-toggleable__label-arrow\">ARIMA</label><div class=\"sk-toggleable__content\"><pre> ARIMA(2,1,3)(0,0,0)[0] intercept</pre></div></div></div></div></div>"
      ],
      "text/plain": [
       "ARIMA(order=(2, 1, 3), scoring_args={}, suppress_warnings=True)"
      ]
     },
     "execution_count": 32,
     "metadata": {},
     "output_type": "execute_result"
    }
   ],
   "source": [
    "# we'll use both train and test sets for training\n",
    "arima_train=pd.concat([russia_train, russia_test])\n",
    "arima = auto_arima(arima_train,\n",
    "                    trace=True,\n",
    "                    error_action=\"ignore\",\n",
    "                    suppress_warnings=True,\n",
    "                    random_state=111,\n",
    "                    stepwise=False,\n",
    "                    seasonal=False)\n",
    "\n",
    "arima.fit(arima_train)"
   ]
  },
  {
   "cell_type": "code",
   "execution_count": 33,
   "id": "1af590c1",
   "metadata": {},
   "outputs": [
    {
     "name": "stderr",
     "output_type": "stream",
     "text": [
      "/Users/thao/miniconda3/envs/tensorflow/lib/python3.10/site-packages/statsmodels/tsa/base/tsa_model.py:836: ValueWarning: No supported index is available. Prediction results will be given with an integer index beginning at `start`.\n",
      "  return get_prediction_index(\n"
     ]
    },
    {
     "data": {
      "text/html": [
       "<div>\n",
       "<style scoped>\n",
       "    .dataframe tbody tr th:only-of-type {\n",
       "        vertical-align: middle;\n",
       "    }\n",
       "\n",
       "    .dataframe tbody tr th {\n",
       "        vertical-align: top;\n",
       "    }\n",
       "\n",
       "    .dataframe thead th {\n",
       "        text-align: right;\n",
       "    }\n",
       "</style>\n",
       "<table border=\"1\" class=\"dataframe\">\n",
       "  <thead>\n",
       "    <tr style=\"text-align: right;\">\n",
       "      <th></th>\n",
       "      <th>Price</th>\n",
       "      <th>ARIMA Prediction</th>\n",
       "    </tr>\n",
       "    <tr>\n",
       "      <th>Date</th>\n",
       "      <th></th>\n",
       "      <th></th>\n",
       "    </tr>\n",
       "  </thead>\n",
       "  <tbody>\n",
       "    <tr>\n",
       "      <th>2021-01-04</th>\n",
       "      <td>272.00</td>\n",
       "      <td>272.015073</td>\n",
       "    </tr>\n",
       "    <tr>\n",
       "      <th>2021-01-05</th>\n",
       "      <td>275.20</td>\n",
       "      <td>273.077896</td>\n",
       "    </tr>\n",
       "    <tr>\n",
       "      <th>2021-01-06</th>\n",
       "      <td>272.93</td>\n",
       "      <td>271.712241</td>\n",
       "    </tr>\n",
       "    <tr>\n",
       "      <th>2021-01-08</th>\n",
       "      <td>283.64</td>\n",
       "      <td>272.763563</td>\n",
       "    </tr>\n",
       "    <tr>\n",
       "      <th>2021-01-11</th>\n",
       "      <td>289.49</td>\n",
       "      <td>272.654947</td>\n",
       "    </tr>\n",
       "  </tbody>\n",
       "</table>\n",
       "</div>"
      ],
      "text/plain": [
       "             Price  ARIMA Prediction\n",
       "Date                                \n",
       "2021-01-04  272.00        272.015073\n",
       "2021-01-05  275.20        273.077896\n",
       "2021-01-06  272.93        271.712241\n",
       "2021-01-08  283.64        272.763563\n",
       "2021-01-11  289.49        272.654947"
      ]
     },
     "execution_count": 33,
     "metadata": {},
     "output_type": "execute_result"
    }
   ],
   "source": [
    "# predict on the 2021 dataset\n",
    "forecast = arima.predict(len(russia_predict))\n",
    "arima_pred=russia_predict.copy()\n",
    "arima_pred[\"ARIMA Prediction\"]=forecast.values\n",
    "arima_pred.head()"
   ]
  },
  {
   "cell_type": "code",
   "execution_count": 34,
   "id": "4dc9582d",
   "metadata": {},
   "outputs": [
    {
     "name": "stdout",
     "output_type": "stream",
     "text": [
      "MAPE by ARIMA: 0.026722166743258315\n"
     ]
    },
    {
     "data": {
      "image/png": "[encoded data removed]",
      "text/plain": [
       "<Figure size 1000x500 with 1 Axes>"
      ]
     },
     "metadata": {},
     "output_type": "display_data"
    }
   ],
   "source": [
    "print('MAPE by ARIMA:',mean_absolute_percentage_error(arima_pred['Price'],arima_pred['ARIMA Prediction']))\n",
    "\n",
    "#plot the predictions\n",
    "plt.figure(figsize=(10,5))\n",
    "plt.plot(arima_train.index, arima_train['Price'], color='blue')\n",
    "plt.plot(arima_pred.index, arima_pred['Price'], color='red', label=\"Real Price\")\n",
    "plt.plot(arima_pred.index, arima_pred['ARIMA Prediction'], color='black', label=\"ARIMA Prediction\")\n",
    "plt.legend(loc='best')\n",
    "plt.show()"
   ]
  },
  {
   "cell_type": "markdown",
   "id": "5f7ff8b5",
   "metadata": {},
   "source": [
    "An auto-ARIMA model uses past data to understand the pattern in the time series. Using these values, the model captured an increasing trend in the series. As it's evident from the plot, the model has captured an upward trend in the series, but does not focus on the seasonal part."
   ]
  },
  {
   "cell_type": "markdown",
   "id": "827d5ff8",
   "metadata": {},
   "source": [
    "# PROPHET by Facebook <a class=\"anchor\" id=\"fb\"></a>"
   ]
  },
  {
   "cell_type": "code",
   "execution_count": 35,
   "id": "85b15f3a",
   "metadata": {},
   "outputs": [],
   "source": [
    "from prophet import Prophet"
   ]
  },
  {
   "cell_type": "code",
   "execution_count": 36,
   "id": "3e64507b",
   "metadata": {},
   "outputs": [
    {
     "data": {
      "text/html": [
       "<div>\n",
       "<style scoped>\n",
       "    .dataframe tbody tr th:only-of-type {\n",
       "        vertical-align: middle;\n",
       "    }\n",
       "\n",
       "    .dataframe tbody tr th {\n",
       "        vertical-align: top;\n",
       "    }\n",
       "\n",
       "    .dataframe thead th {\n",
       "        text-align: right;\n",
       "    }\n",
       "</style>\n",
       "<table border=\"1\" class=\"dataframe\">\n",
       "  <thead>\n",
       "    <tr style=\"text-align: right;\">\n",
       "      <th></th>\n",
       "      <th>ds</th>\n",
       "      <th>y</th>\n",
       "    </tr>\n",
       "  </thead>\n",
       "  <tbody>\n",
       "    <tr>\n",
       "      <th>0</th>\n",
       "      <td>2020-01-03</td>\n",
       "      <td>255.00</td>\n",
       "    </tr>\n",
       "    <tr>\n",
       "      <th>1</th>\n",
       "      <td>2020-01-06</td>\n",
       "      <td>253.90</td>\n",
       "    </tr>\n",
       "    <tr>\n",
       "      <th>2</th>\n",
       "      <td>2020-01-08</td>\n",
       "      <td>259.15</td>\n",
       "    </tr>\n",
       "    <tr>\n",
       "      <th>3</th>\n",
       "      <td>2020-01-09</td>\n",
       "      <td>257.99</td>\n",
       "    </tr>\n",
       "    <tr>\n",
       "      <th>4</th>\n",
       "      <td>2020-01-10</td>\n",
       "      <td>258.19</td>\n",
       "    </tr>\n",
       "  </tbody>\n",
       "</table>\n",
       "</div>"
      ],
      "text/plain": [
       "          ds       y\n",
       "0 2020-01-03  255.00\n",
       "1 2020-01-06  253.90\n",
       "2 2020-01-08  259.15\n",
       "3 2020-01-09  257.99\n",
       "4 2020-01-10  258.19"
      ]
     },
     "execution_count": 36,
     "metadata": {},
     "output_type": "execute_result"
    }
   ],
   "source": [
    "# same as ARIMA, we'll use both train and test sets for training\n",
    "prophet_train=pd.concat([russia_train, russia_test]).reset_index()\n",
    "prophet_train=prophet_train.rename(columns={\"Date\": \"ds\", \"Price\": \"y\"})\n",
    "prophet_train.head()"
   ]
  },
  {
   "cell_type": "code",
   "execution_count": 37,
   "id": "7860036b",
   "metadata": {},
   "outputs": [
    {
     "name": "stderr",
     "output_type": "stream",
     "text": [
      "06:24:43 - cmdstanpy - INFO - Chain [1] start processing\n",
      "06:24:44 - cmdstanpy - INFO - Chain [1] done processing\n"
     ]
    },
    {
     "data": {
      "text/plain": [
       "<prophet.forecaster.Prophet at 0x1759fdc30>"
      ]
     },
     "execution_count": 37,
     "metadata": {},
     "output_type": "execute_result"
    }
   ],
   "source": [
    "model = Prophet(daily_seasonality=True)\n",
    "model.fit(prophet_train)"
   ]
  },
  {
   "cell_type": "code",
   "execution_count": 38,
   "id": "9e4bbc51",
   "metadata": {
    "scrolled": true
   },
   "outputs": [
    {
     "data": {
      "text/html": [
       "<div>\n",
       "<style scoped>\n",
       "    .dataframe tbody tr th:only-of-type {\n",
       "        vertical-align: middle;\n",
       "    }\n",
       "\n",
       "    .dataframe tbody tr th {\n",
       "        vertical-align: top;\n",
       "    }\n",
       "\n",
       "    .dataframe thead th {\n",
       "        text-align: right;\n",
       "    }\n",
       "</style>\n",
       "<table border=\"1\" class=\"dataframe\">\n",
       "  <thead>\n",
       "    <tr style=\"text-align: right;\">\n",
       "      <th></th>\n",
       "      <th>Price</th>\n",
       "      <th>yhat</th>\n",
       "    </tr>\n",
       "    <tr>\n",
       "      <th>ds</th>\n",
       "      <th></th>\n",
       "      <th></th>\n",
       "    </tr>\n",
       "  </thead>\n",
       "  <tbody>\n",
       "    <tr>\n",
       "      <th>2021-01-04</th>\n",
       "      <td>272.00</td>\n",
       "      <td>280.958296</td>\n",
       "    </tr>\n",
       "    <tr>\n",
       "      <th>2021-01-05</th>\n",
       "      <td>275.20</td>\n",
       "      <td>281.034495</td>\n",
       "    </tr>\n",
       "    <tr>\n",
       "      <th>2021-01-06</th>\n",
       "      <td>272.93</td>\n",
       "      <td>279.650796</td>\n",
       "    </tr>\n",
       "    <tr>\n",
       "      <th>2021-01-08</th>\n",
       "      <td>283.64</td>\n",
       "      <td>280.546964</td>\n",
       "    </tr>\n",
       "    <tr>\n",
       "      <th>2021-01-11</th>\n",
       "      <td>289.49</td>\n",
       "      <td>283.399632</td>\n",
       "    </tr>\n",
       "    <tr>\n",
       "      <th>...</th>\n",
       "      <td>...</td>\n",
       "      <td>...</td>\n",
       "    </tr>\n",
       "    <tr>\n",
       "      <th>2021-03-25</th>\n",
       "      <td>286.66</td>\n",
       "      <td>331.143712</td>\n",
       "    </tr>\n",
       "    <tr>\n",
       "      <th>2021-03-26</th>\n",
       "      <td>291.22</td>\n",
       "      <td>331.219911</td>\n",
       "    </tr>\n",
       "    <tr>\n",
       "      <th>2021-03-29</th>\n",
       "      <td>293.30</td>\n",
       "      <td>329.836212</td>\n",
       "    </tr>\n",
       "    <tr>\n",
       "      <th>2021-03-30</th>\n",
       "      <td>293.25</td>\n",
       "      <td>330.732380</td>\n",
       "    </tr>\n",
       "    <tr>\n",
       "      <th>2021-03-31</th>\n",
       "      <td>291.02</td>\n",
       "      <td>333.585048</td>\n",
       "    </tr>\n",
       "  </tbody>\n",
       "</table>\n",
       "<p>61 rows × 2 columns</p>\n",
       "</div>"
      ],
      "text/plain": [
       "             Price        yhat\n",
       "ds                            \n",
       "2021-01-04  272.00  280.958296\n",
       "2021-01-05  275.20  281.034495\n",
       "2021-01-06  272.93  279.650796\n",
       "2021-01-08  283.64  280.546964\n",
       "2021-01-11  289.49  283.399632\n",
       "...            ...         ...\n",
       "2021-03-25  286.66  331.143712\n",
       "2021-03-26  291.22  331.219911\n",
       "2021-03-29  293.30  329.836212\n",
       "2021-03-30  293.25  330.732380\n",
       "2021-03-31  291.02  333.585048\n",
       "\n",
       "[61 rows x 2 columns]"
      ]
     },
     "execution_count": 38,
     "metadata": {},
     "output_type": "execute_result"
    }
   ],
   "source": [
    "# predict on the 2021 dataset\n",
    "future = model.make_future_dataframe(periods=len(russia_predict), freq=\"d\", include_history=False)\n",
    "forecast = model.predict(future)\n",
    "forecast['ds']=russia_predict.index\n",
    "forecast['Price']=russia_predict.values\n",
    "forecast.set_index('ds', inplace=True)\n",
    "forecast[['Price','yhat']] #yhat is the prices predicted by PROPHET"
   ]
  },
  {
   "cell_type": "code",
   "execution_count": 39,
   "id": "a10324ce",
   "metadata": {},
   "outputs": [
    {
     "name": "stdout",
     "output_type": "stream",
     "text": [
      "MAPE by PROPHET: 0.11062651165489262\n"
     ]
    },
    {
     "data": {
      "image/png": "[encoded data removed]",
      "text/plain": [
       "<Figure size 1000x500 with 1 Axes>"
      ]
     },
     "metadata": {},
     "output_type": "display_data"
    }
   ],
   "source": [
    "print('MAPE by PROPHET:',mean_absolute_percentage_error(forecast['Price'],forecast['yhat']))\n",
    "\n",
    "#plot the predictions\n",
    "plt.figure(figsize=(10,5))\n",
    "plt.plot(prophet_train['ds'], prophet_train['y'], color='blue')\n",
    "plt.plot(forecast.index, forecast['Price'], color='red', label=\"Real Price\")\n",
    "plt.plot(forecast.index, forecast['yhat'], color='black', label=\"PROPHET Prediction\")\n",
    "plt.legend(loc='best')\n",
    "plt.show()"
   ]
  },
  {
   "cell_type": "markdown",
   "id": "9a278c5d",
   "metadata": {},
   "source": [
    "Same as ARIMA, PROPHET catches the upward trend, but not the seasonal fluctuations."
   ]
  },
  {
   "cell_type": "markdown",
   "id": "78f465f1",
   "metadata": {},
   "source": [
    "# LSTM <a class=\"anchor\" id=\"lstm\"></a>"
   ]
  },
  {
   "cell_type": "code",
   "execution_count": 40,
   "id": "243783fd",
   "metadata": {},
   "outputs": [
    {
     "name": "stdout",
     "output_type": "stream",
     "text": [
      "5-day set:\n",
      "Train shape:  (181, 5, 1) (181,)\n",
      "Test shape:  (64, 5, 1) (64,)\n",
      "Predict shape:  (56, 5, 1) (56,)\n",
      "\n",
      "10-day set:\n",
      "Train shape:  (176, 10, 1) (176,)\n",
      "Test shape:  (64, 10, 1) (64,)\n",
      "Predict shape:  (51, 10, 1) (51,)\n",
      "\n",
      "21-day set:\n",
      "Train shape:  (165, 21, 1) (165,)\n",
      "Test shape:  (64, 21, 1) (64,)\n",
      "Predict shape:  (40, 21, 1) (40,)\n"
     ]
    }
   ],
   "source": [
    "# In order to know which window size works best (5, 10 or 21 days) for LSTM model, \n",
    "# we'll create different input and output sets for each window. \n",
    "# The important thing about LSTM is that the input needs to be a 3D vector (samples, time-steps, features)\n",
    "# so we'll have to reshape to fit this.\n",
    "\n",
    "############### datasets for 5-day window\n",
    "# Since we use the last 5 days in the training set to predict the test set, \n",
    "# we have to concatenate the last 5 days in the training set to the test set.\n",
    "# The same applies to 10-day and 21-day windows\n",
    "\n",
    "lstm_test_5=pd.concat([russia_train.tail(),russia_test]) \n",
    "X_train_5=[]\n",
    "y_train_5=[]\n",
    "X_test_5=[]\n",
    "y_test_5=[]\n",
    "X_predict_5=[]\n",
    "y_predict_5=[]\n",
    "\n",
    "for i in range(5, russia_train.shape[0]):\n",
    "    X_train_5.append(russia_train[i-5: i])\n",
    "    y_train_5.append(russia_train.iloc[i,0])\n",
    "    \n",
    "for i in range(5, lstm_test_5.shape[0]):\n",
    "    X_test_5.append(lstm_test_5[i-5: i])\n",
    "    y_test_5.append(lstm_test_5.iloc[i,0])\n",
    "    \n",
    "for i in range(5, russia_predict.shape[0]):\n",
    "    X_predict_5.append(russia_predict[i-5: i])\n",
    "    y_predict_5.append(russia_predict.iloc[i,0])\n",
    "    \n",
    "X_train_5, y_train_5 = np.array(X_train_5), np.array(y_train_5)\n",
    "X_test_5, y_test_5 = np.array(X_test_5), np.array(y_test_5)\n",
    "X_predict_5, y_predict_5 = np.array(X_predict_5), np.array(y_predict_5)\n",
    "\n",
    "############### datasets for 10-day window\n",
    "lstm_test_10=pd.concat([russia_train.tail(10),russia_test])\n",
    "X_train_10=[]\n",
    "y_train_10=[]\n",
    "X_test_10=[]\n",
    "y_test_10=[]\n",
    "X_predict_10=[]\n",
    "y_predict_10=[]\n",
    "\n",
    "for i in range(10, russia_train.shape[0]):\n",
    "    X_train_10.append(russia_train[i-10: i])\n",
    "    y_train_10.append(russia_train.iloc[i,0])\n",
    "    \n",
    "for i in range(10, lstm_test_10.shape[0]):\n",
    "    X_test_10.append(lstm_test_10[i-10: i])\n",
    "    y_test_10.append(lstm_test_10.iloc[i,0])\n",
    "    \n",
    "for i in range(10, russia_predict.shape[0]):\n",
    "    X_predict_10.append(russia_predict[i-10: i])\n",
    "    y_predict_10.append(russia_predict.iloc[i,0])\n",
    "    \n",
    "X_train_10, y_train_10 = np.array(X_train_10), np.array(y_train_10)\n",
    "X_test_10, y_test_10 = np.array(X_test_10), np.array(y_test_10)\n",
    "X_predict_10, y_predict_10 = np.array(X_predict_10), np.array(y_predict_10)\n",
    "\n",
    "############### datasets for 21-day window\n",
    "lstm_test_21=pd.concat([russia_train.tail(21),russia_test])\n",
    "X_train_21=[]\n",
    "y_train_21=[]\n",
    "X_test_21=[]\n",
    "y_test_21=[]\n",
    "X_predict_21=[]\n",
    "y_predict_21=[]\n",
    "\n",
    "for i in range(21, russia_train.shape[0]):\n",
    "    X_train_21.append(russia_train[i-21: i])\n",
    "    y_train_21.append(russia_train.iloc[i,0])\n",
    "    \n",
    "for i in range(21, lstm_test_21.shape[0]):\n",
    "    X_test_21.append(lstm_test_21[i-21: i])\n",
    "    y_test_21.append(lstm_test_21.iloc[i,0])\n",
    "\n",
    "for i in range(21, russia_predict.shape[0]):\n",
    "    X_predict_21.append(russia_predict[i-21: i])\n",
    "    y_predict_21.append(russia_predict.iloc[i,0])\n",
    "    \n",
    "X_train_21, y_train_21 = np.array(X_train_21), np.array(y_train_21)\n",
    "X_test_21, y_test_21 = np.array(X_test_21), np.array(y_test_21)\n",
    "X_predict_21, y_predict_21 = np.array(X_predict_21), np.array(y_predict_21)\n",
    "\n",
    "# sanity check\n",
    "print('5-day set:')\n",
    "print('Train shape: ', X_train_5.shape, y_train_5.shape) # (229, 21, 1) == (samples, 21-day time step, 1 feature - Price)\n",
    "print('Test shape: ',X_test_5.shape, y_test_5.shape)\n",
    "print('Predict shape: ',X_predict_5.shape, y_predict_5.shape)\n",
    "print('\\n10-day set:')\n",
    "print('Train shape: ',X_train_10.shape, y_train_10.shape) # (229, 21, 1) == (samples, 21-day time step, 1 feature - Price)\n",
    "print('Test shape: ',X_test_10.shape, y_test_10.shape)\n",
    "print('Predict shape: ',X_predict_10.shape, y_predict_10.shape)\n",
    "print('\\n21-day set:')\n",
    "print('Train shape: ',X_train_21.shape, y_train_21.shape) # (229, 21, 1) == (samples, 21-day time step, 1 feature - Price)\n",
    "print('Test shape: ',X_test_21.shape, y_test_21.shape)\n",
    "print('Predict shape: ',X_predict_21.shape, y_predict_21.shape)"
   ]
  },
  {
   "cell_type": "markdown",
   "id": "4a9aa56b",
   "metadata": {},
   "source": [
    "Now we'll use tuner BayesianOptimization to seek the best model for each window."
   ]
  },
  {
   "cell_type": "markdown",
   "id": "29e131c9",
   "metadata": {},
   "source": [
    "### LSTM model for 5-day window"
   ]
  },
  {
   "cell_type": "code",
   "execution_count": 41,
   "id": "f8f79aa9",
   "metadata": {},
   "outputs": [
    {
     "name": "stdout",
     "output_type": "stream",
     "text": [
      "Using TensorFlow backend\n",
      "WARNING:tensorflow:Layer lstm will not use cuDNN kernels since it doesn't meet the criteria. It will use a generic GPU kernel as fallback when running on GPU.\n"
     ]
    },
    {
     "name": "stderr",
     "output_type": "stream",
     "text": [
      "2023-12-16 06:24:44.718633: I tensorflow/core/common_runtime/pluggable_device/pluggable_device_factory.cc:306] Could not identify NUMA node of platform GPU ID 0, defaulting to 0. Your kernel may not have been built with NUMA support.\n",
      "2023-12-16 06:24:44.718660: I tensorflow/core/common_runtime/pluggable_device/pluggable_device_factory.cc:272] Created TensorFlow device (/job:localhost/replica:0/task:0/device:GPU:0 with 0 MB memory) -> physical PluggableDevice (device: 0, name: METAL, pci bus id: <undefined>)\n"
     ]
    },
    {
     "data": {
      "text/plain": [
       "<keras.src.engine.sequential.Sequential at 0x1757cee30>"
      ]
     },
     "execution_count": 41,
     "metadata": {},
     "output_type": "execute_result"
    }
   ],
   "source": [
    "import keras_tuner\n",
    "from keras_tuner import BayesianOptimization\n",
    "from tensorflow.keras.callbacks import EarlyStopping, ModelCheckpoint\n",
    "\n",
    "# Early stopping to avoid overfitting of model\n",
    "early_stopping = EarlyStopping(monitor='val_mean_absolute_percentage_error', mode='min', verbose=1, patience=10)\n",
    "\n",
    "model_checkpoint_5 = ModelCheckpoint('best_lstm_p5_5days.h5', \n",
    "                                   monitor='mean_absolute_percentage_error', \n",
    "                                   mode='min', \n",
    "                                   verbose=1, \n",
    "                                   save_best_only=True)\n",
    "\n",
    "# since the dataset is pretty small, let's build a simple model\n",
    "def build_model(hp):\n",
    "    model = Sequential()\n",
    "    # Tune the number of LSTM cells \n",
    "    model.add(LSTM(units=hp.Int('units',min_value=32,max_value=512,step=16), \n",
    "                   activation='relu',\n",
    "                   input_shape=(X_train_5.shape[1], 1)))\n",
    "\n",
    "    # Tune whether to use dropout        \n",
    "    if hp.Boolean(\"dropout\"):\n",
    "        model.add(Dropout(hp.Float('Dropout_rate',min_value=0,max_value=0.5,step=0.1)))\n",
    "\n",
    "    # Tune the number of dense units      \n",
    "    model.add(Dense(units=hp.Int('units',min_value=32, max_value=512, step=16), activation='relu'))\n",
    "    model.add(Dense(1))\n",
    "    model.compile(\n",
    "      # Tune learning rate          \n",
    "      optimizer=tf.keras.optimizers.legacy.Adam(hp.Float('learning_rate', \n",
    "                                                         min_value=1e-4, max_value=1e-2,sampling='log')),\n",
    "      loss='mean_absolute_percentage_error',\n",
    "      metrics=['mean_absolute_percentage_error'])\n",
    "\n",
    "    return model\n",
    "\n",
    "build_model(keras_tuner.HyperParameters())"
   ]
  },
  {
   "cell_type": "code",
   "execution_count": 42,
   "id": "065a7d1f",
   "metadata": {
    "scrolled": true
   },
   "outputs": [
    {
     "name": "stdout",
     "output_type": "stream",
     "text": [
      "Trial 5 Complete [00h 00m 12s]\n",
      "mean_absolute_percentage_error: 5.796257019042969\n",
      "\n",
      "Best mean_absolute_percentage_error So Far: 1.859354853630066\n",
      "Total elapsed time: 00h 01m 57s\n",
      "WARNING:tensorflow:Layer lstm will not use cuDNN kernels since it doesn't meet the criteria. It will use a generic GPU kernel as fallback when running on GPU.\n",
      "Model: \"sequential\"\n",
      "_________________________________________________________________\n",
      " Layer (type)                Output Shape              Param #   \n",
      "=================================================================\n",
      " lstm (LSTM)                 (None, 416)               695552    \n",
      "                                                                 \n",
      " dense (Dense)               (None, 416)               173472    \n",
      "                                                                 \n",
      " dense_1 (Dense)             (None, 1)                 417       \n",
      "                                                                 \n",
      "=================================================================\n",
      "Total params: 869441 (3.32 MB)\n",
      "Trainable params: 869441 (3.32 MB)\n",
      "Non-trainable params: 0 (0.00 Byte)\n",
      "_________________________________________________________________\n"
     ]
    }
   ],
   "source": [
    "tuner = BayesianOptimization(\n",
    "    hypermodel=build_model,\n",
    "    objective=keras_tuner.Objective('mean_absolute_percentage_error', direction=\"min\"),\n",
    "    max_trials=5,\n",
    "    executions_per_trial=1,\n",
    "    seed=222,\n",
    "    project_name='lstm_bayesian_p5',\n",
    "    overwrite=True)\n",
    "\n",
    "\n",
    "with tf.device('/device:GPU:0'):\n",
    "    tuner.search(X_train_5, y_train_5,\n",
    "                 epochs=100,\n",
    "                 validation_split=0.2,verbose=1,\n",
    "                 callbacks=[early_stopping, model_checkpoint_5])\n",
    "\n",
    "# Get the top model\n",
    "best_model_5=tuner.get_best_models(num_models=1)[0]\n",
    "\n",
    "#summary of best model\n",
    "best_model_5.summary()"
   ]
  },
  {
   "cell_type": "markdown",
   "id": "0be5a516",
   "metadata": {},
   "source": [
    "### LSTM model for 10-day window"
   ]
  },
  {
   "cell_type": "code",
   "execution_count": 43,
   "id": "2a0624bb",
   "metadata": {},
   "outputs": [
    {
     "name": "stdout",
     "output_type": "stream",
     "text": [
      "WARNING:tensorflow:Layer lstm_1 will not use cuDNN kernels since it doesn't meet the criteria. It will use a generic GPU kernel as fallback when running on GPU.\n"
     ]
    },
    {
     "data": {
      "text/plain": [
       "<keras.src.engine.sequential.Sequential at 0x2c6e0b370>"
      ]
     },
     "execution_count": 43,
     "metadata": {},
     "output_type": "execute_result"
    }
   ],
   "source": [
    "model_checkpoint_10 = ModelCheckpoint('best_lstm_p5_10days.h5', \n",
    "                                   monitor='mean_absolute_percentage_error', \n",
    "                                   mode='min', \n",
    "                                   verbose=1, \n",
    "                                   save_best_only=True)\n",
    "\n",
    "def build_model(hp):\n",
    "    model = Sequential()\n",
    "    # Tune the number of LSTM cells \n",
    "    model.add(LSTM(units=hp.Int('units',min_value=32,max_value=512,step=16), \n",
    "                   activation='relu',\n",
    "                   input_shape=(X_train_10.shape[1], 1)))\n",
    "\n",
    "    # Tune whether to use dropout        \n",
    "    if hp.Boolean(\"dropout\"):\n",
    "        model.add(Dropout(rate=0.25))\n",
    "\n",
    "    # Tune the number of dense units      \n",
    "    model.add(Dense(units=hp.Int('units',min_value=32, max_value=512, step=16), activation='relu'))\n",
    "    model.add(Dense(1))\n",
    "    model.compile(\n",
    "      # Tune learning rate          \n",
    "      optimizer=tf.keras.optimizers.legacy.Adam(hp.Float('learning_rate', \n",
    "                                                         min_value=1e-4, max_value=1e-2,sampling='log')),\n",
    "      loss='mean_absolute_percentage_error',\n",
    "      metrics=['mean_absolute_percentage_error'])\n",
    "\n",
    "    return model\n",
    "\n",
    "build_model(keras_tuner.HyperParameters())"
   ]
  },
  {
   "cell_type": "code",
   "execution_count": 44,
   "id": "2da40007",
   "metadata": {
    "scrolled": true
   },
   "outputs": [
    {
     "name": "stdout",
     "output_type": "stream",
     "text": [
      "Trial 5 Complete [00h 00m 16s]\n",
      "mean_absolute_percentage_error: 4.2869133949279785\n",
      "\n",
      "Best mean_absolute_percentage_error So Far: 1.984334945678711\n",
      "Total elapsed time: 00h 02m 36s\n",
      "WARNING:tensorflow:Layer lstm will not use cuDNN kernels since it doesn't meet the criteria. It will use a generic GPU kernel as fallback when running on GPU.\n",
      "Model: \"sequential\"\n",
      "_________________________________________________________________\n",
      " Layer (type)                Output Shape              Param #   \n",
      "=================================================================\n",
      " lstm (LSTM)                 (None, 80)                26240     \n",
      "                                                                 \n",
      " dense (Dense)               (None, 80)                6480      \n",
      "                                                                 \n",
      " dense_1 (Dense)             (None, 1)                 81        \n",
      "                                                                 \n",
      "=================================================================\n",
      "Total params: 32801 (128.13 KB)\n",
      "Trainable params: 32801 (128.13 KB)\n",
      "Non-trainable params: 0 (0.00 Byte)\n",
      "_________________________________________________________________\n"
     ]
    }
   ],
   "source": [
    "tuner = BayesianOptimization(\n",
    "    hypermodel=build_model,\n",
    "    objective=keras_tuner.Objective('mean_absolute_percentage_error', direction=\"min\"),\n",
    "    max_trials=5,\n",
    "    executions_per_trial=1,\n",
    "    seed=333,\n",
    "    project_name='lstm_bayesian_p5',\n",
    "    overwrite=True)\n",
    "\n",
    "\n",
    "with tf.device('/device:GPU:0'):\n",
    "    tuner.search(X_train_10, y_train_10,\n",
    "                 epochs=100,\n",
    "                 validation_split=0.2,verbose=1,\n",
    "                 callbacks=[early_stopping, model_checkpoint_10])\n",
    "\n",
    "# Get the top model\n",
    "best_model_10=tuner.get_best_models(num_models=1)[0]\n",
    "\n",
    "#summary of best model\n",
    "best_model_10.summary()"
   ]
  },
  {
   "cell_type": "markdown",
   "id": "39ef62a9",
   "metadata": {},
   "source": [
    "### LSTM model for 21-day window"
   ]
  },
  {
   "cell_type": "code",
   "execution_count": 45,
   "id": "3dcde76c",
   "metadata": {},
   "outputs": [
    {
     "name": "stdout",
     "output_type": "stream",
     "text": [
      "WARNING:tensorflow:Layer lstm_1 will not use cuDNN kernels since it doesn't meet the criteria. It will use a generic GPU kernel as fallback when running on GPU.\n"
     ]
    },
    {
     "data": {
      "text/plain": [
       "<keras.src.engine.sequential.Sequential at 0x2c6bc18a0>"
      ]
     },
     "execution_count": 45,
     "metadata": {},
     "output_type": "execute_result"
    }
   ],
   "source": [
    "model_checkpoint_21 = ModelCheckpoint('best_lstm_p5_21days.h5', \n",
    "                                   monitor='mean_absolute_percentage_error', \n",
    "                                   mode='min', \n",
    "                                   verbose=1, \n",
    "                                   save_best_only=True)\n",
    "\n",
    "def build_model(hp):\n",
    "    model = Sequential()\n",
    "    # Tune the number of LSTM cells \n",
    "    model.add(LSTM(units=hp.Int('units',min_value=32,max_value=512,step=16), \n",
    "                   activation='relu',\n",
    "                   input_shape=(X_train_21.shape[1], 1)))\n",
    "\n",
    "    # Tune whether to use dropout        \n",
    "    if hp.Boolean(\"dropout\"):\n",
    "        model.add(Dropout(rate=0.25))\n",
    "\n",
    "    # Tune the number of dense units      \n",
    "    model.add(Dense(units=hp.Int('units',min_value=32, max_value=512, step=16), activation='relu'))\n",
    "    model.add(Dense(1))\n",
    "    model.compile(\n",
    "      # Tune learning rate          \n",
    "      optimizer=tf.keras.optimizers.legacy.Adam(hp.Float('learning_rate', \n",
    "                                                         min_value=1e-4, max_value=1e-2,sampling='log')),\n",
    "      loss='mean_absolute_percentage_error',\n",
    "      metrics=['mean_absolute_percentage_error'])\n",
    "\n",
    "    return model\n",
    "\n",
    "build_model(keras_tuner.HyperParameters())"
   ]
  },
  {
   "cell_type": "code",
   "execution_count": 46,
   "id": "b4584670",
   "metadata": {
    "scrolled": true
   },
   "outputs": [
    {
     "name": "stdout",
     "output_type": "stream",
     "text": [
      "Trial 5 Complete [00h 00m 42s]\n",
      "mean_absolute_percentage_error: 13.016286849975586\n",
      "\n",
      "Best mean_absolute_percentage_error So Far: 5.067344665527344\n",
      "Total elapsed time: 00h 06m 56s\n",
      "WARNING:tensorflow:Layer lstm will not use cuDNN kernels since it doesn't meet the criteria. It will use a generic GPU kernel as fallback when running on GPU.\n",
      "Model: \"sequential\"\n",
      "_________________________________________________________________\n",
      " Layer (type)                Output Shape              Param #   \n",
      "=================================================================\n",
      " lstm (LSTM)                 (None, 64)                16896     \n",
      "                                                                 \n",
      " dense (Dense)               (None, 64)                4160      \n",
      "                                                                 \n",
      " dense_1 (Dense)             (None, 1)                 65        \n",
      "                                                                 \n",
      "=================================================================\n",
      "Total params: 21121 (82.50 KB)\n",
      "Trainable params: 21121 (82.50 KB)\n",
      "Non-trainable params: 0 (0.00 Byte)\n",
      "_________________________________________________________________\n"
     ]
    }
   ],
   "source": [
    "tuner = BayesianOptimization(\n",
    "    hypermodel=build_model,\n",
    "    objective=keras_tuner.Objective('mean_absolute_percentage_error', direction=\"min\"),\n",
    "    max_trials=5,\n",
    "    executions_per_trial=1,\n",
    "    seed=444,\n",
    "    project_name='lstm_bayesian_p5',\n",
    "    overwrite=True)\n",
    "\n",
    "\n",
    "with tf.device('/device:GPU:0'):\n",
    "    tuner.search(X_train_21, y_train_21,\n",
    "                 epochs=100,\n",
    "                 validation_split=0.2,verbose=1,\n",
    "                 callbacks=[early_stopping, model_checkpoint_21])\n",
    "\n",
    "# Get the top model\n",
    "best_model_21=tuner.get_best_models(num_models=1)[0]\n",
    "\n",
    "#summary of best model\n",
    "best_model_21.summary()"
   ]
  },
  {
   "cell_type": "markdown",
   "id": "ba898766",
   "metadata": {},
   "source": [
    "### Prediction on the test set and model evaluation\n",
    "\n",
    "We'll use the best model found for each window to predict on the test set, and evaluate their performance."
   ]
  },
  {
   "cell_type": "code",
   "execution_count": 47,
   "id": "441d7d2b",
   "metadata": {},
   "outputs": [
    {
     "name": "stdout",
     "output_type": "stream",
     "text": [
      "2/2 [==============================] - 0s 16ms/step\n",
      "2/2 [==============================] - 0s 24ms/step\n",
      "2/2 [==============================] - 0s 55ms/step\n",
      "MAPE 5-day LSTM: 0.022469736270005848\n",
      "MAPE 10-day LSTM: 0.023316661541551896\n",
      "MAPE 21-day LSTM: 0.08396187554154366\n"
     ]
    },
    {
     "data": {
      "image/png": "[encoded data removed]",
      "text/plain": [
       "<Figure size 1000x500 with 1 Axes>"
      ]
     },
     "metadata": {},
     "output_type": "display_data"
    }
   ],
   "source": [
    "y_true=np.array(russia_test)\n",
    "y_pred_5 = best_model_5.predict(X_test_5)\n",
    "y_pred_10 = best_model_10.predict(X_test_10)\n",
    "y_pred_21 = best_model_21.predict(X_test_21)\n",
    "\n",
    "y_true_5, y_pred_5 = np.array(y_test_5), np.array(y_pred_5)\n",
    "y_true_10, y_pred_10 = np.array(y_test_10), np.array(y_pred_10)\n",
    "y_true_21, y_pred_21 = np.array(y_test_21), np.array(y_pred_21)\n",
    "\n",
    "print('MAPE 5-day LSTM:',mean_absolute_percentage_error(y_true_5, y_pred_5))\n",
    "print('MAPE 10-day LSTM:',mean_absolute_percentage_error(y_true_10, y_pred_10))\n",
    "print('MAPE 21-day LSTM:',mean_absolute_percentage_error(y_true_21, y_pred_21))\n",
    "\n",
    "# Visualising the results\n",
    "plt.figure(figsize=(10,5))\n",
    "plt.plot(russia_test.index, y_true, color = 'blue', label = 'Price')\n",
    "plt.plot(russia_test.index, y_pred_5, color = 'red', label = '5-day LSTM')\n",
    "plt.plot(russia_test.index, y_pred_10, color = 'green', label = '10-day LSTM')\n",
    "plt.plot(russia_test.index, y_pred_21, color = 'orange', label = '21-day LSTM')\n",
    "plt.xlabel(\"\")\n",
    "plt.ylabel('Price')\n",
    "plt.legend()\n",
    "plt.show()"
   ]
  },
  {
   "cell_type": "markdown",
   "id": "91c42866",
   "metadata": {},
   "source": [
    "We see that 5-day LSTM well catches up with the price pattern, so we'll use 5-day window to predict the prices in 2021, but first, we'll have to train the model on the whole dataset in 2020."
   ]
  },
  {
   "cell_type": "markdown",
   "id": "f514d8c4",
   "metadata": {},
   "source": [
    "### Official LSTM model"
   ]
  },
  {
   "cell_type": "code",
   "execution_count": 48,
   "id": "272574cb",
   "metadata": {},
   "outputs": [
    {
     "data": {
      "text/html": [
       "<div>\n",
       "<style scoped>\n",
       "    .dataframe tbody tr th:only-of-type {\n",
       "        vertical-align: middle;\n",
       "    }\n",
       "\n",
       "    .dataframe tbody tr th {\n",
       "        vertical-align: top;\n",
       "    }\n",
       "\n",
       "    .dataframe thead th {\n",
       "        text-align: right;\n",
       "    }\n",
       "</style>\n",
       "<table border=\"1\" class=\"dataframe\">\n",
       "  <thead>\n",
       "    <tr style=\"text-align: right;\">\n",
       "      <th></th>\n",
       "      <th>Price</th>\n",
       "    </tr>\n",
       "    <tr>\n",
       "      <th>Date</th>\n",
       "      <th></th>\n",
       "    </tr>\n",
       "  </thead>\n",
       "  <tbody>\n",
       "    <tr>\n",
       "      <th>2020-12-24</th>\n",
       "      <td>269.32</td>\n",
       "    </tr>\n",
       "    <tr>\n",
       "      <th>2020-12-25</th>\n",
       "      <td>270.64</td>\n",
       "    </tr>\n",
       "    <tr>\n",
       "      <th>2020-12-28</th>\n",
       "      <td>274.70</td>\n",
       "    </tr>\n",
       "    <tr>\n",
       "      <th>2020-12-29</th>\n",
       "      <td>272.00</td>\n",
       "    </tr>\n",
       "    <tr>\n",
       "      <th>2020-12-30</th>\n",
       "      <td>271.65</td>\n",
       "    </tr>\n",
       "    <tr>\n",
       "      <th>2021-01-04</th>\n",
       "      <td>272.00</td>\n",
       "    </tr>\n",
       "    <tr>\n",
       "      <th>2021-01-05</th>\n",
       "      <td>275.20</td>\n",
       "    </tr>\n",
       "    <tr>\n",
       "      <th>2021-01-06</th>\n",
       "      <td>272.93</td>\n",
       "    </tr>\n",
       "    <tr>\n",
       "      <th>2021-01-08</th>\n",
       "      <td>283.64</td>\n",
       "    </tr>\n",
       "    <tr>\n",
       "      <th>2021-01-11</th>\n",
       "      <td>289.49</td>\n",
       "    </tr>\n",
       "  </tbody>\n",
       "</table>\n",
       "</div>"
      ],
      "text/plain": [
       "             Price\n",
       "Date              \n",
       "2020-12-24  269.32\n",
       "2020-12-25  270.64\n",
       "2020-12-28  274.70\n",
       "2020-12-29  272.00\n",
       "2020-12-30  271.65\n",
       "2021-01-04  272.00\n",
       "2021-01-05  275.20\n",
       "2021-01-06  272.93\n",
       "2021-01-08  283.64\n",
       "2021-01-11  289.49"
      ]
     },
     "execution_count": 48,
     "metadata": {},
     "output_type": "execute_result"
    }
   ],
   "source": [
    "lstm_train=pd.concat([russia_train, russia_test]) # dataset in 2020 for training\n",
    "lstm_predict = pd.concat([lstm_train.tail(),russia_predict]) # dataset in 2021 plus 5 last days in 2020\n",
    "lstm_predict.head(10)"
   ]
  },
  {
   "cell_type": "code",
   "execution_count": 49,
   "id": "ff82baa2",
   "metadata": {},
   "outputs": [
    {
     "name": "stdout",
     "output_type": "stream",
     "text": [
      "Train shape:  (245, 5, 1) (245,)\n",
      "Predict shape:  (61, 5, 1) (61,)\n"
     ]
    }
   ],
   "source": [
    "X_train_5=[]\n",
    "y_train_5=[]\n",
    "X_predict_5=[]\n",
    "y_predict_5=[]\n",
    "\n",
    "for i in range(5, lstm_train.shape[0]):\n",
    "    X_train_5.append(lstm_train[i-5: i])\n",
    "    y_train_5.append(lstm_train.iloc[i,0])\n",
    "\n",
    "for i in range(5, lstm_predict.shape[0]):\n",
    "    X_predict_5.append(lstm_predict[i-5: i])\n",
    "    y_predict_5.append(lstm_predict.iloc[i,0])\n",
    "\n",
    "X_train_5, y_train_5 = np.array(X_train_5), np.array(y_train_5)\n",
    "X_predict_5, y_predict_5 = np.array(X_predict_5), np.array(y_predict_5)\n",
    "print('Train shape: ', X_train_5.shape, y_train_5.shape)\n",
    "print('Predict shape: ', X_predict_5.shape, y_predict_5.shape)"
   ]
  },
  {
   "cell_type": "code",
   "execution_count": 50,
   "id": "f4465669",
   "metadata": {},
   "outputs": [
    {
     "name": "stdout",
     "output_type": "stream",
     "text": [
      "WARNING:tensorflow:Layer lstm_1 will not use cuDNN kernels since it doesn't meet the criteria. It will use a generic GPU kernel as fallback when running on GPU.\n"
     ]
    },
    {
     "data": {
      "text/plain": [
       "<keras.src.engine.sequential.Sequential at 0x2df992ec0>"
      ]
     },
     "execution_count": 50,
     "metadata": {},
     "output_type": "execute_result"
    }
   ],
   "source": [
    "# Early stopping to avoid overfitting of model\n",
    "early_stopping = EarlyStopping(monitor='val_mean_absolute_percentage_error', mode='min', verbose=1, patience=10)\n",
    "\n",
    "model_checkpoint_5 = ModelCheckpoint('best_lstm_p5_5days.h5', \n",
    "                                   monitor='mean_absolute_percentage_error', \n",
    "                                   mode='min', \n",
    "                                   verbose=1, \n",
    "                                   save_best_only=True)\n",
    "\n",
    "def build_model(hp):\n",
    "    model = Sequential()\n",
    "    # Tune the number of LSTM cells \n",
    "    model.add(LSTM(units=hp.Int('units',min_value=32,max_value=512,step=16), \n",
    "                   activation='relu',\n",
    "                   input_shape=(X_train_5.shape[1], 1)))\n",
    "\n",
    "    # Tune whether to use dropout        \n",
    "    if hp.Boolean(\"dropout\"):\n",
    "        model.add(Dropout(hp.Float('Dropout_rate',min_value=0,max_value=0.5,step=0.1)))\n",
    "\n",
    "    # Tune the number of dense units      \n",
    "    model.add(Dense(units=hp.Int('units',min_value=32, max_value=512, step=16), activation='relu'))\n",
    "    model.add(Dense(1))\n",
    "    model.compile(\n",
    "      # Tune learning rate          \n",
    "      optimizer=tf.keras.optimizers.legacy.Adam(hp.Float('learning_rate', \n",
    "                                                         min_value=1e-4, max_value=1e-2,sampling='log')),\n",
    "      loss='mean_absolute_percentage_error',\n",
    "      metrics=['mean_absolute_percentage_error'])\n",
    "\n",
    "    return model\n",
    "\n",
    "build_model(keras_tuner.HyperParameters())"
   ]
  },
  {
   "cell_type": "code",
   "execution_count": 51,
   "id": "564f24e1",
   "metadata": {
    "scrolled": true
   },
   "outputs": [
    {
     "name": "stdout",
     "output_type": "stream",
     "text": [
      "Trial 5 Complete [00h 00m 21s]\n",
      "mean_absolute_percentage_error: 2.1109626293182373\n",
      "\n",
      "Best mean_absolute_percentage_error So Far: 1.6336747407913208\n",
      "Total elapsed time: 00h 01m 44s\n",
      "WARNING:tensorflow:Layer lstm will not use cuDNN kernels since it doesn't meet the criteria. It will use a generic GPU kernel as fallback when running on GPU.\n",
      "Model: \"sequential\"\n",
      "_________________________________________________________________\n",
      " Layer (type)                Output Shape              Param #   \n",
      "=================================================================\n",
      " lstm (LSTM)                 (None, 144)               84096     \n",
      "                                                                 \n",
      " dropout (Dropout)           (None, 144)               0         \n",
      "                                                                 \n",
      " dense (Dense)               (None, 144)               20880     \n",
      "                                                                 \n",
      " dense_1 (Dense)             (None, 1)                 145       \n",
      "                                                                 \n",
      "=================================================================\n",
      "Total params: 105121 (410.63 KB)\n",
      "Trainable params: 105121 (410.63 KB)\n",
      "Non-trainable params: 0 (0.00 Byte)\n",
      "_________________________________________________________________\n"
     ]
    }
   ],
   "source": [
    "tuner = BayesianOptimization(\n",
    "    hypermodel=build_model,\n",
    "    objective=keras_tuner.Objective('mean_absolute_percentage_error', direction=\"min\"),\n",
    "    max_trials=5,\n",
    "    executions_per_trial=1,\n",
    "    seed=456,\n",
    "    project_name='lstm_bayesian_p5',\n",
    "    overwrite=True)\n",
    "\n",
    "\n",
    "with tf.device('/device:GPU:0'):\n",
    "    tuner.search(X_train_5, y_train_5,\n",
    "                 epochs=100,\n",
    "                 validation_split=0.2,verbose=1,\n",
    "                 callbacks=[early_stopping, model_checkpoint_5])\n",
    "\n",
    "# Get the top model\n",
    "best_model_5=tuner.get_best_models(num_models=1)[0]\n",
    "\n",
    "#summary of best model\n",
    "best_model_5.summary()"
   ]
  },
  {
   "cell_type": "code",
   "execution_count": 52,
   "id": "5f87af9c",
   "metadata": {},
   "outputs": [
    {
     "name": "stdout",
     "output_type": "stream",
     "text": [
      "2/2 [==============================] - 0s 100ms/step\n"
     ]
    },
    {
     "data": {
      "text/html": [
       "<div>\n",
       "<style scoped>\n",
       "    .dataframe tbody tr th:only-of-type {\n",
       "        vertical-align: middle;\n",
       "    }\n",
       "\n",
       "    .dataframe tbody tr th {\n",
       "        vertical-align: top;\n",
       "    }\n",
       "\n",
       "    .dataframe thead th {\n",
       "        text-align: right;\n",
       "    }\n",
       "</style>\n",
       "<table border=\"1\" class=\"dataframe\">\n",
       "  <thead>\n",
       "    <tr style=\"text-align: right;\">\n",
       "      <th></th>\n",
       "      <th>Price</th>\n",
       "      <th>LSTM Prediction</th>\n",
       "    </tr>\n",
       "    <tr>\n",
       "      <th>Date</th>\n",
       "      <th></th>\n",
       "      <th></th>\n",
       "    </tr>\n",
       "  </thead>\n",
       "  <tbody>\n",
       "    <tr>\n",
       "      <th>2021-01-04</th>\n",
       "      <td>272.00</td>\n",
       "      <td>271.596252</td>\n",
       "    </tr>\n",
       "    <tr>\n",
       "      <th>2021-01-05</th>\n",
       "      <td>275.20</td>\n",
       "      <td>272.110931</td>\n",
       "    </tr>\n",
       "    <tr>\n",
       "      <th>2021-01-06</th>\n",
       "      <td>272.93</td>\n",
       "      <td>275.121185</td>\n",
       "    </tr>\n",
       "    <tr>\n",
       "      <th>2021-01-08</th>\n",
       "      <td>283.64</td>\n",
       "      <td>273.056854</td>\n",
       "    </tr>\n",
       "    <tr>\n",
       "      <th>2021-01-11</th>\n",
       "      <td>289.49</td>\n",
       "      <td>282.360168</td>\n",
       "    </tr>\n",
       "  </tbody>\n",
       "</table>\n",
       "</div>"
      ],
      "text/plain": [
       "             Price  LSTM Prediction\n",
       "Date                               \n",
       "2021-01-04  272.00       271.596252\n",
       "2021-01-05  275.20       272.110931\n",
       "2021-01-06  272.93       275.121185\n",
       "2021-01-08  283.64       273.056854\n",
       "2021-01-11  289.49       282.360168"
      ]
     },
     "execution_count": 52,
     "metadata": {},
     "output_type": "execute_result"
    }
   ],
   "source": [
    "# predict the prices in 2021\n",
    "y_pred= best_model_5.predict(X_predict_5)\n",
    "lstm_pred=pd.DataFrame({'Price':y_predict_5,'LSTM Prediction':y_pred.flatten()}, index=russia_predict.index)\n",
    "lstm_pred.head()"
   ]
  },
  {
   "cell_type": "code",
   "execution_count": 53,
   "id": "fc82c8c4",
   "metadata": {
    "scrolled": true
   },
   "outputs": [
    {
     "name": "stdout",
     "output_type": "stream",
     "text": [
      "MAPE 5-day LSTM: 0.012456266070769818\n"
     ]
    },
    {
     "data": {
      "image/png": "[encoded data removed]",
      "text/plain": [
       "<Figure size 1000x500 with 1 Axes>"
      ]
     },
     "metadata": {},
     "output_type": "display_data"
    }
   ],
   "source": [
    "print('MAPE 5-day LSTM:',mean_absolute_percentage_error(lstm_pred['Price'], lstm_pred['LSTM Prediction']))\n",
    "\n",
    "# Visualising the results\n",
    "plt.figure(figsize=(10,5))\n",
    "plt.plot(lstm_pred['Price'], color = 'blue', label = 'Price')\n",
    "plt.plot(lstm_pred['LSTM Prediction'], color = 'red', label = 'LSTM Prediction')\n",
    "plt.xlabel(\"\")\n",
    "plt.ylabel('Price')\n",
    "plt.legend()\n",
    "plt.show()"
   ]
  },
  {
   "cell_type": "markdown",
   "id": "0918a473",
   "metadata": {},
   "source": [
    "LSTM shows excellent performance with only **0.013** of MAPE, or the average difference between the predicted price and the actual value is **1.3%**. Now let's create the buying/selling strategy with Bollinger Band."
   ]
  },
  {
   "cell_type": "code",
   "execution_count": 54,
   "id": "a6010ae9",
   "metadata": {
    "scrolled": true
   },
   "outputs": [
    {
     "data": {
      "text/html": [
       "<div>\n",
       "<style scoped>\n",
       "    .dataframe tbody tr th:only-of-type {\n",
       "        vertical-align: middle;\n",
       "    }\n",
       "\n",
       "    .dataframe tbody tr th {\n",
       "        vertical-align: top;\n",
       "    }\n",
       "\n",
       "    .dataframe thead th {\n",
       "        text-align: right;\n",
       "    }\n",
       "</style>\n",
       "<table border=\"1\" class=\"dataframe\">\n",
       "  <thead>\n",
       "    <tr style=\"text-align: right;\">\n",
       "      <th></th>\n",
       "      <th>Price</th>\n",
       "      <th>LSTM Prediction</th>\n",
       "    </tr>\n",
       "    <tr>\n",
       "      <th>Date</th>\n",
       "      <th></th>\n",
       "      <th></th>\n",
       "    </tr>\n",
       "  </thead>\n",
       "  <tbody>\n",
       "    <tr>\n",
       "      <th>2020-12-03</th>\n",
       "      <td>263.14</td>\n",
       "      <td>NaN</td>\n",
       "    </tr>\n",
       "    <tr>\n",
       "      <th>2020-12-04</th>\n",
       "      <td>270.00</td>\n",
       "      <td>NaN</td>\n",
       "    </tr>\n",
       "    <tr>\n",
       "      <th>2020-12-07</th>\n",
       "      <td>274.36</td>\n",
       "      <td>NaN</td>\n",
       "    </tr>\n",
       "    <tr>\n",
       "      <th>2020-12-08</th>\n",
       "      <td>275.49</td>\n",
       "      <td>NaN</td>\n",
       "    </tr>\n",
       "    <tr>\n",
       "      <th>2020-12-09</th>\n",
       "      <td>276.89</td>\n",
       "      <td>NaN</td>\n",
       "    </tr>\n",
       "    <tr>\n",
       "      <th>2020-12-10</th>\n",
       "      <td>282.20</td>\n",
       "      <td>NaN</td>\n",
       "    </tr>\n",
       "    <tr>\n",
       "      <th>2020-12-11</th>\n",
       "      <td>283.73</td>\n",
       "      <td>NaN</td>\n",
       "    </tr>\n",
       "    <tr>\n",
       "      <th>2020-12-14</th>\n",
       "      <td>279.95</td>\n",
       "      <td>NaN</td>\n",
       "    </tr>\n",
       "    <tr>\n",
       "      <th>2020-12-15</th>\n",
       "      <td>278.70</td>\n",
       "      <td>NaN</td>\n",
       "    </tr>\n",
       "    <tr>\n",
       "      <th>2020-12-16</th>\n",
       "      <td>278.35</td>\n",
       "      <td>NaN</td>\n",
       "    </tr>\n",
       "    <tr>\n",
       "      <th>2020-12-17</th>\n",
       "      <td>278.50</td>\n",
       "      <td>NaN</td>\n",
       "    </tr>\n",
       "    <tr>\n",
       "      <th>2020-12-18</th>\n",
       "      <td>270.16</td>\n",
       "      <td>NaN</td>\n",
       "    </tr>\n",
       "    <tr>\n",
       "      <th>2020-12-21</th>\n",
       "      <td>261.79</td>\n",
       "      <td>NaN</td>\n",
       "    </tr>\n",
       "    <tr>\n",
       "      <th>2020-12-22</th>\n",
       "      <td>262.04</td>\n",
       "      <td>NaN</td>\n",
       "    </tr>\n",
       "    <tr>\n",
       "      <th>2020-12-23</th>\n",
       "      <td>270.10</td>\n",
       "      <td>NaN</td>\n",
       "    </tr>\n",
       "    <tr>\n",
       "      <th>2020-12-24</th>\n",
       "      <td>269.32</td>\n",
       "      <td>NaN</td>\n",
       "    </tr>\n",
       "    <tr>\n",
       "      <th>2020-12-25</th>\n",
       "      <td>270.64</td>\n",
       "      <td>NaN</td>\n",
       "    </tr>\n",
       "    <tr>\n",
       "      <th>2020-12-28</th>\n",
       "      <td>274.70</td>\n",
       "      <td>NaN</td>\n",
       "    </tr>\n",
       "    <tr>\n",
       "      <th>2020-12-29</th>\n",
       "      <td>272.00</td>\n",
       "      <td>NaN</td>\n",
       "    </tr>\n",
       "    <tr>\n",
       "      <th>2020-12-30</th>\n",
       "      <td>271.65</td>\n",
       "      <td>NaN</td>\n",
       "    </tr>\n",
       "    <tr>\n",
       "      <th>2021-01-04</th>\n",
       "      <td>NaN</td>\n",
       "      <td>271.596252</td>\n",
       "    </tr>\n",
       "    <tr>\n",
       "      <th>2021-01-05</th>\n",
       "      <td>NaN</td>\n",
       "      <td>272.110931</td>\n",
       "    </tr>\n",
       "    <tr>\n",
       "      <th>2021-01-06</th>\n",
       "      <td>NaN</td>\n",
       "      <td>275.121185</td>\n",
       "    </tr>\n",
       "    <tr>\n",
       "      <th>2021-01-08</th>\n",
       "      <td>NaN</td>\n",
       "      <td>273.056854</td>\n",
       "    </tr>\n",
       "    <tr>\n",
       "      <th>2021-01-11</th>\n",
       "      <td>NaN</td>\n",
       "      <td>282.360168</td>\n",
       "    </tr>\n",
       "    <tr>\n",
       "      <th>2021-01-12</th>\n",
       "      <td>NaN</td>\n",
       "      <td>287.815643</td>\n",
       "    </tr>\n",
       "    <tr>\n",
       "      <th>2021-01-13</th>\n",
       "      <td>NaN</td>\n",
       "      <td>289.232544</td>\n",
       "    </tr>\n",
       "    <tr>\n",
       "      <th>2021-01-14</th>\n",
       "      <td>NaN</td>\n",
       "      <td>284.080536</td>\n",
       "    </tr>\n",
       "    <tr>\n",
       "      <th>2021-01-15</th>\n",
       "      <td>NaN</td>\n",
       "      <td>284.501190</td>\n",
       "    </tr>\n",
       "    <tr>\n",
       "      <th>2021-01-18</th>\n",
       "      <td>NaN</td>\n",
       "      <td>275.062042</td>\n",
       "    </tr>\n",
       "  </tbody>\n",
       "</table>\n",
       "</div>"
      ],
      "text/plain": [
       "             Price  LSTM Prediction\n",
       "Date                               \n",
       "2020-12-03  263.14              NaN\n",
       "2020-12-04  270.00              NaN\n",
       "2020-12-07  274.36              NaN\n",
       "2020-12-08  275.49              NaN\n",
       "2020-12-09  276.89              NaN\n",
       "2020-12-10  282.20              NaN\n",
       "2020-12-11  283.73              NaN\n",
       "2020-12-14  279.95              NaN\n",
       "2020-12-15  278.70              NaN\n",
       "2020-12-16  278.35              NaN\n",
       "2020-12-17  278.50              NaN\n",
       "2020-12-18  270.16              NaN\n",
       "2020-12-21  261.79              NaN\n",
       "2020-12-22  262.04              NaN\n",
       "2020-12-23  270.10              NaN\n",
       "2020-12-24  269.32              NaN\n",
       "2020-12-25  270.64              NaN\n",
       "2020-12-28  274.70              NaN\n",
       "2020-12-29  272.00              NaN\n",
       "2020-12-30  271.65              NaN\n",
       "2021-01-04     NaN       271.596252\n",
       "2021-01-05     NaN       272.110931\n",
       "2021-01-06     NaN       275.121185\n",
       "2021-01-08     NaN       273.056854\n",
       "2021-01-11     NaN       282.360168\n",
       "2021-01-12     NaN       287.815643\n",
       "2021-01-13     NaN       289.232544\n",
       "2021-01-14     NaN       284.080536\n",
       "2021-01-15     NaN       284.501190\n",
       "2021-01-18     NaN       275.062042"
      ]
     },
     "execution_count": 54,
     "metadata": {},
     "output_type": "execute_result"
    }
   ],
   "source": [
    "# First, we'll concatenate the last 20 values of train set to the predict set\n",
    "last21days_2020 = lstm_train.tail(20)\n",
    "lstm_bb = pd.concat([last21days_2020,lstm_pred[['LSTM Prediction']]])\n",
    "lstm_bb.head(30)"
   ]
  },
  {
   "cell_type": "code",
   "execution_count": 55,
   "id": "0f66a5ec",
   "metadata": {},
   "outputs": [
    {
     "data": {
      "text/html": [
       "<div>\n",
       "<style scoped>\n",
       "    .dataframe tbody tr th:only-of-type {\n",
       "        vertical-align: middle;\n",
       "    }\n",
       "\n",
       "    .dataframe tbody tr th {\n",
       "        vertical-align: top;\n",
       "    }\n",
       "\n",
       "    .dataframe thead th {\n",
       "        text-align: right;\n",
       "    }\n",
       "</style>\n",
       "<table border=\"1\" class=\"dataframe\">\n",
       "  <thead>\n",
       "    <tr style=\"text-align: right;\">\n",
       "      <th></th>\n",
       "      <th>Price</th>\n",
       "    </tr>\n",
       "    <tr>\n",
       "      <th>Date</th>\n",
       "      <th></th>\n",
       "    </tr>\n",
       "  </thead>\n",
       "  <tbody>\n",
       "    <tr>\n",
       "      <th>2020-12-03</th>\n",
       "      <td>263.140000</td>\n",
       "    </tr>\n",
       "    <tr>\n",
       "      <th>2020-12-04</th>\n",
       "      <td>270.000000</td>\n",
       "    </tr>\n",
       "    <tr>\n",
       "      <th>2020-12-07</th>\n",
       "      <td>274.360000</td>\n",
       "    </tr>\n",
       "    <tr>\n",
       "      <th>2020-12-08</th>\n",
       "      <td>275.490000</td>\n",
       "    </tr>\n",
       "    <tr>\n",
       "      <th>2020-12-09</th>\n",
       "      <td>276.890000</td>\n",
       "    </tr>\n",
       "    <tr>\n",
       "      <th>2020-12-10</th>\n",
       "      <td>282.200000</td>\n",
       "    </tr>\n",
       "    <tr>\n",
       "      <th>2020-12-11</th>\n",
       "      <td>283.730000</td>\n",
       "    </tr>\n",
       "    <tr>\n",
       "      <th>2020-12-14</th>\n",
       "      <td>279.950000</td>\n",
       "    </tr>\n",
       "    <tr>\n",
       "      <th>2020-12-15</th>\n",
       "      <td>278.700000</td>\n",
       "    </tr>\n",
       "    <tr>\n",
       "      <th>2020-12-16</th>\n",
       "      <td>278.350000</td>\n",
       "    </tr>\n",
       "    <tr>\n",
       "      <th>2020-12-17</th>\n",
       "      <td>278.500000</td>\n",
       "    </tr>\n",
       "    <tr>\n",
       "      <th>2020-12-18</th>\n",
       "      <td>270.160000</td>\n",
       "    </tr>\n",
       "    <tr>\n",
       "      <th>2020-12-21</th>\n",
       "      <td>261.790000</td>\n",
       "    </tr>\n",
       "    <tr>\n",
       "      <th>2020-12-22</th>\n",
       "      <td>262.040000</td>\n",
       "    </tr>\n",
       "    <tr>\n",
       "      <th>2020-12-23</th>\n",
       "      <td>270.100000</td>\n",
       "    </tr>\n",
       "    <tr>\n",
       "      <th>2020-12-24</th>\n",
       "      <td>269.320000</td>\n",
       "    </tr>\n",
       "    <tr>\n",
       "      <th>2020-12-25</th>\n",
       "      <td>270.640000</td>\n",
       "    </tr>\n",
       "    <tr>\n",
       "      <th>2020-12-28</th>\n",
       "      <td>274.700000</td>\n",
       "    </tr>\n",
       "    <tr>\n",
       "      <th>2020-12-29</th>\n",
       "      <td>272.000000</td>\n",
       "    </tr>\n",
       "    <tr>\n",
       "      <th>2020-12-30</th>\n",
       "      <td>271.650000</td>\n",
       "    </tr>\n",
       "    <tr>\n",
       "      <th>2021-01-04</th>\n",
       "      <td>271.596252</td>\n",
       "    </tr>\n",
       "    <tr>\n",
       "      <th>2021-01-05</th>\n",
       "      <td>272.110931</td>\n",
       "    </tr>\n",
       "    <tr>\n",
       "      <th>2021-01-06</th>\n",
       "      <td>275.121185</td>\n",
       "    </tr>\n",
       "    <tr>\n",
       "      <th>2021-01-08</th>\n",
       "      <td>273.056854</td>\n",
       "    </tr>\n",
       "    <tr>\n",
       "      <th>2021-01-11</th>\n",
       "      <td>282.360168</td>\n",
       "    </tr>\n",
       "    <tr>\n",
       "      <th>2021-01-12</th>\n",
       "      <td>287.815643</td>\n",
       "    </tr>\n",
       "    <tr>\n",
       "      <th>2021-01-13</th>\n",
       "      <td>289.232544</td>\n",
       "    </tr>\n",
       "    <tr>\n",
       "      <th>2021-01-14</th>\n",
       "      <td>284.080536</td>\n",
       "    </tr>\n",
       "    <tr>\n",
       "      <th>2021-01-15</th>\n",
       "      <td>284.501190</td>\n",
       "    </tr>\n",
       "    <tr>\n",
       "      <th>2021-01-18</th>\n",
       "      <td>275.062042</td>\n",
       "    </tr>\n",
       "  </tbody>\n",
       "</table>\n",
       "</div>"
      ],
      "text/plain": [
       "                 Price\n",
       "Date                  \n",
       "2020-12-03  263.140000\n",
       "2020-12-04  270.000000\n",
       "2020-12-07  274.360000\n",
       "2020-12-08  275.490000\n",
       "2020-12-09  276.890000\n",
       "2020-12-10  282.200000\n",
       "2020-12-11  283.730000\n",
       "2020-12-14  279.950000\n",
       "2020-12-15  278.700000\n",
       "2020-12-16  278.350000\n",
       "2020-12-17  278.500000\n",
       "2020-12-18  270.160000\n",
       "2020-12-21  261.790000\n",
       "2020-12-22  262.040000\n",
       "2020-12-23  270.100000\n",
       "2020-12-24  269.320000\n",
       "2020-12-25  270.640000\n",
       "2020-12-28  274.700000\n",
       "2020-12-29  272.000000\n",
       "2020-12-30  271.650000\n",
       "2021-01-04  271.596252\n",
       "2021-01-05  272.110931\n",
       "2021-01-06  275.121185\n",
       "2021-01-08  273.056854\n",
       "2021-01-11  282.360168\n",
       "2021-01-12  287.815643\n",
       "2021-01-13  289.232544\n",
       "2021-01-14  284.080536\n",
       "2021-01-15  284.501190\n",
       "2021-01-18  275.062042"
      ]
     },
     "execution_count": 55,
     "metadata": {},
     "output_type": "execute_result"
    }
   ],
   "source": [
    "# condense the predicted price from column LSTM Prediction to column Price\n",
    "lstm_bb['Price'][20:]=lstm_bb['LSTM Prediction'][20:] \n",
    "lstm_bb=lstm_bb[['Price']]\n",
    "lstm_bb.head(30)"
   ]
  },
  {
   "cell_type": "code",
   "execution_count": 56,
   "id": "5239cc90",
   "metadata": {},
   "outputs": [],
   "source": [
    "# We'll build the strategy logic as Buy when the Price touches the lower band (BBL_ length_standard-deviation),\n",
    "#    => indicate an oversold scenario \n",
    "# and Sell when the Price touches the upper band (BBU_ length_standard-deviation) \n",
    "#    => indicate an overbought scenario\n",
    "\n",
    "import pandas_ta as ta\n",
    "\n",
    "def bb_strategy(data):\n",
    "    bbBuy = []\n",
    "    bbSell = []\n",
    "    position = False\n",
    "    bb = ta.bbands(data['Price'], length=20,std=2)\n",
    "    data = pd.concat([data, bb], axis=1).reindex(data.index)\n",
    "\n",
    "    for i in range(len(data)):\n",
    "        if data['Price'][i] < data['BBL_20_2.0'][i]: \n",
    "            if position == False :\n",
    "                bbBuy.append(data['Price'][i]) # buy when the predicted price crosses the lower band \n",
    "                bbSell.append(np.nan)\n",
    "                position = True\n",
    "            else:\n",
    "                bbBuy.append(np.nan)\n",
    "                bbSell.append(np.nan)\n",
    "        elif data['Price'][i] > data['BBU_20_2.0'][i]:\n",
    "            if position == True:\n",
    "                bbBuy.append(np.nan)\n",
    "                bbSell.append(data['Price'][i]) # sell when the predicted price crosses the upper band \n",
    "                position = False\n",
    "            else:\n",
    "                bbBuy.append(np.nan)\n",
    "                bbSell.append(np.nan)\n",
    "        else :\n",
    "            bbBuy.append(np.nan)\n",
    "            bbSell.append(np.nan)\n",
    "\n",
    "    data['bb_Buy_Signal_price'] = bbBuy\n",
    "    data['bb_Sell_Signal_price'] = bbSell\n",
    "\n",
    "    return data\n"
   ]
  },
  {
   "cell_type": "code",
   "execution_count": 57,
   "id": "2c8a7140",
   "metadata": {},
   "outputs": [
    {
     "data": {
      "text/html": [
       "<div>\n",
       "<style scoped>\n",
       "    .dataframe tbody tr th:only-of-type {\n",
       "        vertical-align: middle;\n",
       "    }\n",
       "\n",
       "    .dataframe tbody tr th {\n",
       "        vertical-align: top;\n",
       "    }\n",
       "\n",
       "    .dataframe thead th {\n",
       "        text-align: right;\n",
       "    }\n",
       "</style>\n",
       "<table border=\"1\" class=\"dataframe\">\n",
       "  <thead>\n",
       "    <tr style=\"text-align: right;\">\n",
       "      <th></th>\n",
       "      <th>Price</th>\n",
       "      <th>BBL_20_2.0</th>\n",
       "      <th>BBM_20_2.0</th>\n",
       "      <th>BBU_20_2.0</th>\n",
       "      <th>BBB_20_2.0</th>\n",
       "      <th>BBP_20_2.0</th>\n",
       "      <th>bb_Buy_Signal_price</th>\n",
       "      <th>bb_Sell_Signal_price</th>\n",
       "    </tr>\n",
       "    <tr>\n",
       "      <th>Date</th>\n",
       "      <th></th>\n",
       "      <th></th>\n",
       "      <th></th>\n",
       "      <th></th>\n",
       "      <th></th>\n",
       "      <th></th>\n",
       "      <th></th>\n",
       "      <th></th>\n",
       "    </tr>\n",
       "  </thead>\n",
       "  <tbody>\n",
       "    <tr>\n",
       "      <th>2021-01-04</th>\n",
       "      <td>271.596252</td>\n",
       "      <td>262.177870</td>\n",
       "      <td>273.608313</td>\n",
       "      <td>285.038756</td>\n",
       "      <td>8.355333</td>\n",
       "      <td>0.411987</td>\n",
       "      <td>NaN</td>\n",
       "      <td>NaN</td>\n",
       "    </tr>\n",
       "    <tr>\n",
       "      <th>2021-01-05</th>\n",
       "      <td>272.110931</td>\n",
       "      <td>262.380064</td>\n",
       "      <td>273.713859</td>\n",
       "      <td>285.047654</td>\n",
       "      <td>8.281492</td>\n",
       "      <td>0.429285</td>\n",
       "      <td>NaN</td>\n",
       "      <td>NaN</td>\n",
       "    </tr>\n",
       "    <tr>\n",
       "      <th>2021-01-06</th>\n",
       "      <td>275.121185</td>\n",
       "      <td>262.404596</td>\n",
       "      <td>273.751918</td>\n",
       "      <td>285.099241</td>\n",
       "      <td>8.290223</td>\n",
       "      <td>0.560334</td>\n",
       "      <td>NaN</td>\n",
       "      <td>NaN</td>\n",
       "    </tr>\n",
       "    <tr>\n",
       "      <th>2021-01-08</th>\n",
       "      <td>273.056854</td>\n",
       "      <td>262.307940</td>\n",
       "      <td>273.630261</td>\n",
       "      <td>284.952583</td>\n",
       "      <td>8.275636</td>\n",
       "      <td>0.474678</td>\n",
       "      <td>NaN</td>\n",
       "      <td>NaN</td>\n",
       "    </tr>\n",
       "    <tr>\n",
       "      <th>2021-01-11</th>\n",
       "      <td>282.360168</td>\n",
       "      <td>262.028888</td>\n",
       "      <td>273.903770</td>\n",
       "      <td>285.778651</td>\n",
       "      <td>8.670842</td>\n",
       "      <td>0.856062</td>\n",
       "      <td>NaN</td>\n",
       "      <td>NaN</td>\n",
       "    </tr>\n",
       "  </tbody>\n",
       "</table>\n",
       "</div>"
      ],
      "text/plain": [
       "                 Price  BBL_20_2.0  BBM_20_2.0  BBU_20_2.0  BBB_20_2.0  \\\n",
       "Date                                                                     \n",
       "2021-01-04  271.596252  262.177870  273.608313  285.038756    8.355333   \n",
       "2021-01-05  272.110931  262.380064  273.713859  285.047654    8.281492   \n",
       "2021-01-06  275.121185  262.404596  273.751918  285.099241    8.290223   \n",
       "2021-01-08  273.056854  262.307940  273.630261  284.952583    8.275636   \n",
       "2021-01-11  282.360168  262.028888  273.903770  285.778651    8.670842   \n",
       "\n",
       "            BBP_20_2.0  bb_Buy_Signal_price  bb_Sell_Signal_price  \n",
       "Date                                                               \n",
       "2021-01-04    0.411987                  NaN                   NaN  \n",
       "2021-01-05    0.429285                  NaN                   NaN  \n",
       "2021-01-06    0.560334                  NaN                   NaN  \n",
       "2021-01-08    0.474678                  NaN                   NaN  \n",
       "2021-01-11    0.856062                  NaN                   NaN  "
      ]
     },
     "execution_count": 57,
     "metadata": {},
     "output_type": "execute_result"
    }
   ],
   "source": [
    "lstm_strategy = bb_strategy(lstm_bb)[20:] # get the prices in 2021 only\n",
    "lstm_strategy.head()"
   ]
  },
  {
   "cell_type": "code",
   "execution_count": 58,
   "id": "efc07d8f",
   "metadata": {
    "scrolled": true
   },
   "outputs": [
    {
     "data": {
      "image/png": "[encoded data removed]",
      "text/plain": [
       "<Figure size 1200x500 with 1 Axes>"
      ]
     },
     "metadata": {},
     "output_type": "display_data"
    }
   ],
   "source": [
    "#plot\n",
    "plt.figure(figsize=(12,5))\n",
    "plt.plot(lstm_strategy['Price'],label='Predicted Price', linewidth=0.5, color='blue')\n",
    "plt.plot(lstm_pred.index,lstm_pred['Price'], color = 'black', label = 'Real Price', linestyle='dashed', alpha=0.2)\n",
    "plt.scatter(lstm_strategy.index, lstm_strategy['bb_Buy_Signal_price'], color='green', marker='^', alpha=1)\n",
    "plt.scatter(lstm_strategy.index, lstm_strategy['bb_Sell_Signal_price'], color='red', marker='v', alpha=1)\n",
    "plt.plot(lstm_strategy['BBU_20_2.0'], label='Upper', color='red', alpha=0.2) #Upper band\n",
    "plt.plot(lstm_strategy['BBL_20_2.0'], label='Lower', color='green', alpha=0.2) #lower band\n",
    "plt.fill_between(lstm_strategy.index, lstm_strategy['BBL_20_2.0'], lstm_strategy['BBU_20_2.0'], alpha=0.05)\n",
    "plt.xlabel('Date', fontsize=8)\n",
    "plt.ylabel('Price')\n",
    "plt.legend(loc='best')\n",
    "plt.grid()\n",
    "plt.show()"
   ]
  },
  {
   "cell_type": "code",
   "execution_count": 59,
   "id": "469895fa",
   "metadata": {},
   "outputs": [
    {
     "data": {
      "text/html": [
       "<div>\n",
       "<style scoped>\n",
       "    .dataframe tbody tr th:only-of-type {\n",
       "        vertical-align: middle;\n",
       "    }\n",
       "\n",
       "    .dataframe tbody tr th {\n",
       "        vertical-align: top;\n",
       "    }\n",
       "\n",
       "    .dataframe thead th {\n",
       "        text-align: right;\n",
       "    }\n",
       "</style>\n",
       "<table border=\"1\" class=\"dataframe\">\n",
       "  <thead>\n",
       "    <tr style=\"text-align: right;\">\n",
       "      <th></th>\n",
       "      <th>Price</th>\n",
       "      <th>BBL_20_2.0</th>\n",
       "      <th>BBM_20_2.0</th>\n",
       "      <th>BBU_20_2.0</th>\n",
       "      <th>BBB_20_2.0</th>\n",
       "      <th>BBP_20_2.0</th>\n",
       "      <th>bb_Buy_Signal_price</th>\n",
       "      <th>bb_Sell_Signal_price</th>\n",
       "    </tr>\n",
       "    <tr>\n",
       "      <th>Date</th>\n",
       "      <th></th>\n",
       "      <th></th>\n",
       "      <th></th>\n",
       "      <th></th>\n",
       "      <th></th>\n",
       "      <th></th>\n",
       "      <th></th>\n",
       "      <th></th>\n",
       "    </tr>\n",
       "  </thead>\n",
       "  <tbody>\n",
       "    <tr>\n",
       "      <th>2021-02-01</th>\n",
       "      <td>257.268829</td>\n",
       "      <td>257.871147</td>\n",
       "      <td>274.609039</td>\n",
       "      <td>291.346932</td>\n",
       "      <td>12.190343</td>\n",
       "      <td>-0.017993</td>\n",
       "      <td>257.268829</td>\n",
       "      <td>NaN</td>\n",
       "    </tr>\n",
       "  </tbody>\n",
       "</table>\n",
       "</div>"
      ],
      "text/plain": [
       "                 Price  BBL_20_2.0  BBM_20_2.0  BBU_20_2.0  BBB_20_2.0  \\\n",
       "Date                                                                     \n",
       "2021-02-01  257.268829  257.871147  274.609039  291.346932   12.190343   \n",
       "\n",
       "            BBP_20_2.0  bb_Buy_Signal_price  bb_Sell_Signal_price  \n",
       "Date                                                               \n",
       "2021-02-01   -0.017993           257.268829                   NaN  "
      ]
     },
     "execution_count": 59,
     "metadata": {},
     "output_type": "execute_result"
    }
   ],
   "source": [
    "# date to buy\n",
    "buying_date=lstm_strategy[~lstm_strategy['bb_Buy_Signal_price'].isna()]\n",
    "buying_date"
   ]
  },
  {
   "cell_type": "code",
   "execution_count": 60,
   "id": "f33cbb4b",
   "metadata": {
    "scrolled": true
   },
   "outputs": [
    {
     "data": {
      "text/html": [
       "<div>\n",
       "<style scoped>\n",
       "    .dataframe tbody tr th:only-of-type {\n",
       "        vertical-align: middle;\n",
       "    }\n",
       "\n",
       "    .dataframe tbody tr th {\n",
       "        vertical-align: top;\n",
       "    }\n",
       "\n",
       "    .dataframe thead th {\n",
       "        text-align: right;\n",
       "    }\n",
       "</style>\n",
       "<table border=\"1\" class=\"dataframe\">\n",
       "  <thead>\n",
       "    <tr style=\"text-align: right;\">\n",
       "      <th></th>\n",
       "      <th>Price</th>\n",
       "      <th>BBL_20_2.0</th>\n",
       "      <th>BBM_20_2.0</th>\n",
       "      <th>BBU_20_2.0</th>\n",
       "      <th>BBB_20_2.0</th>\n",
       "      <th>BBP_20_2.0</th>\n",
       "      <th>bb_Buy_Signal_price</th>\n",
       "      <th>bb_Sell_Signal_price</th>\n",
       "    </tr>\n",
       "    <tr>\n",
       "      <th>Date</th>\n",
       "      <th></th>\n",
       "      <th></th>\n",
       "      <th></th>\n",
       "      <th></th>\n",
       "      <th></th>\n",
       "      <th></th>\n",
       "      <th></th>\n",
       "      <th></th>\n",
       "    </tr>\n",
       "  </thead>\n",
       "  <tbody>\n",
       "    <tr>\n",
       "      <th>2021-03-03</th>\n",
       "      <td>278.623016</td>\n",
       "      <td>262.960252</td>\n",
       "      <td>270.216862</td>\n",
       "      <td>277.473473</td>\n",
       "      <td>5.370953</td>\n",
       "      <td>1.079207</td>\n",
       "      <td>NaN</td>\n",
       "      <td>278.623016</td>\n",
       "    </tr>\n",
       "  </tbody>\n",
       "</table>\n",
       "</div>"
      ],
      "text/plain": [
       "                 Price  BBL_20_2.0  BBM_20_2.0  BBU_20_2.0  BBB_20_2.0  \\\n",
       "Date                                                                     \n",
       "2021-03-03  278.623016  262.960252  270.216862  277.473473    5.370953   \n",
       "\n",
       "            BBP_20_2.0  bb_Buy_Signal_price  bb_Sell_Signal_price  \n",
       "Date                                                               \n",
       "2021-03-03    1.079207                  NaN            278.623016  "
      ]
     },
     "execution_count": 60,
     "metadata": {},
     "output_type": "execute_result"
    }
   ],
   "source": [
    "# date to sell\n",
    "selling_date=lstm_strategy[~lstm_strategy['bb_Sell_Signal_price'].isna()]\n",
    "selling_date"
   ]
  },
  {
   "cell_type": "code",
   "execution_count": 61,
   "id": "2390b766",
   "metadata": {},
   "outputs": [
    {
     "data": {
      "text/plain": [
       "30"
      ]
     },
     "execution_count": 61,
     "metadata": {},
     "output_type": "execute_result"
    }
   ],
   "source": [
    "# the number of days that we should hold the stock\n",
    "(selling_date.index[0]-buying_date.index[0]).days"
   ]
  },
  {
   "cell_type": "markdown",
   "id": "0f9ee8d0",
   "metadata": {},
   "source": [
    "It's predicted that we should buy on Feb 1st and sell on Mar 3rd, gaining a return of **>$20**/stock after holding for 30 days."
   ]
  },
  {
   "cell_type": "markdown",
   "id": "ac992d15",
   "metadata": {},
   "source": [
    "# Conclusion <a class=\"anchor\" id=\"con\"></a>"
   ]
  },
  {
   "cell_type": "markdown",
   "id": "8ecee4f9",
   "metadata": {},
   "source": [
    "Overall, LSTM model, with only 1.3% of MAPE, has outperformed other traditional ones such as ARIMA and PROPHET. As a room for improvement, it is suggested to input a bigger dataset in order to further minimize the error."
   ]
  }
 ],
 "metadata": {
  "kernelspec": {
   "display_name": "Python 3.10 (tensorflow)",
   "language": "python",
   "name": "tensorflow"
  },
  "language_info": {
   "codemirror_mode": {
    "name": "ipython",
    "version": 3
   },
   "file_extension": ".py",
   "mimetype": "text/x-python",
   "name": "python",
   "nbconvert_exporter": "python",
   "pygments_lexer": "ipython3",
   "version": "3.10.13"
  }
 },
 "nbformat": 4,
 "nbformat_minor": 5
}
